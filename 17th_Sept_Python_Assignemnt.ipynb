{
 "cells": [
  {
   "cell_type": "markdown",
   "id": "5252005f-e8c0-4a87-951e-450b809869be",
   "metadata": {},
   "source": [
    "                                                                      for loop"
   ]
  },
  {
   "cell_type": "markdown",
   "id": "18caa10d-4860-4b9b-bf56-e8ec63be63de",
   "metadata": {},
   "source": [
    "       1. Write a Python program to print numbers from 1 to 10 using a for loop."
   ]
  },
  {
   "cell_type": "code",
   "execution_count": 3,
   "id": "1e9ba752-65a9-4349-a246-0af2ff8acd8c",
   "metadata": {},
   "outputs": [
    {
     "name": "stdout",
     "output_type": "stream",
     "text": [
      "1\n",
      "2\n",
      "3\n",
      "4\n",
      "5\n",
      "6\n",
      "7\n",
      "8\n",
      "9\n",
      "10\n"
     ]
    }
   ],
   "source": [
    "for i in range(1,11):\n",
    "    print(i)"
   ]
  },
  {
   "cell_type": "markdown",
   "id": "2b582cb0-f161-436e-a796-dda45ccc7e8d",
   "metadata": {},
   "source": [
    "         2. Explain the difference between a for loop and a while loop in Python."
   ]
  },
  {
   "cell_type": "code",
   "execution_count": 29,
   "id": "4e8d4719-91be-4376-8979-082fc33bbbbf",
   "metadata": {},
   "outputs": [],
   "source": [
    "#for loop :-\n",
    "\n",
    "#>>>For loop is used to iterate over a sequence of items.\n",
    "#>>>For loops are designed for iterating over a sequence of items. Eg. list, tuple, etc\n",
    "#>>>For loop require a sequence to iterate over.\n",
    "#>>>For loop is typically used for iterating over a fixed sequence of items\n",
    "#>>>For loop is more efficient than a while loop when iterating over sequences, \n",
    "#since the number of iterations is predetermined and the loop can be optimized accordingly.\n",
    "\n",
    "#while loop :-\n",
    "\n",
    "#>>>While loop is used to repeatedly execute a block of statements while a condition is true.\n",
    "#>>>While loop is used when the number of iterations is not known in advance or \n",
    "#when we want to repeat a block of code until a certain condition is met.\n",
    "#>>>While the loop requires an initial condition that is tested at the beginning of the loop.\n",
    "#>>>While loop is used for more complex control flow situations.\n",
    "#>>>While a loop may be more efficient in certain situations where the condition being tested can be evaluated quickly."
   ]
  },
  {
   "cell_type": "markdown",
   "id": "f4998525-18cd-4ed1-a323-bf6d66b3857b",
   "metadata": {},
   "source": [
    "         3. Write a Python program to calculate the sum of all numbers from 1 to 100 using a for loop."
   ]
  },
  {
   "cell_type": "code",
   "execution_count": 8,
   "id": "81a6ccc5-ef0a-44bc-9010-1ad5cb7f724a",
   "metadata": {},
   "outputs": [
    {
     "name": "stdout",
     "output_type": "stream",
     "text": [
      "5050\n"
     ]
    }
   ],
   "source": [
    "sum = 0\n",
    "for i in range(1,101):\n",
    "    sum = sum+i\n",
    "print(sum)"
   ]
  },
  {
   "cell_type": "markdown",
   "id": "847a02d4-9fb0-448c-bbbb-2cc04f3888b4",
   "metadata": {},
   "source": [
    "          4.How do you iterate through a list using a for loop in Python?\n"
   ]
  },
  {
   "cell_type": "code",
   "execution_count": 10,
   "id": "ba32b741-8e1c-4a08-ab54-f70b9fdf36dd",
   "metadata": {},
   "outputs": [
    {
     "name": "stdout",
     "output_type": "stream",
     "text": [
      "1\n",
      "3\n",
      "5\n",
      "7\n",
      "9\n"
     ]
    }
   ],
   "source": [
    "l = [1,3,5,7,9]\n",
    "for i in l:\n",
    "    print(i)"
   ]
  },
  {
   "cell_type": "markdown",
   "id": "80c3a4fe-c1db-4841-bc13-a93214a1ead1",
   "metadata": {},
   "source": [
    "         5.Write a Python program to find the product of all elements in a list using a for loop"
   ]
  },
  {
   "cell_type": "code",
   "execution_count": 7,
   "id": "1288102a-8fe3-4dfd-8e1b-4a7b83561238",
   "metadata": {},
   "outputs": [
    {
     "name": "stdout",
     "output_type": "stream",
     "text": [
      "6000\n"
     ]
    }
   ],
   "source": [
    "list1 = [10,20,30]\n",
    "result = 1\n",
    "for i in list1:\n",
    "    result = result*i\n",
    "print(result)    \n",
    "\n"
   ]
  },
  {
   "cell_type": "markdown",
   "id": "63a226e1-22cd-4239-b619-beb9f21387ae",
   "metadata": {},
   "source": [
    "         6.Create a Python program that prints all even numbers from 1 to 20 using a for loop."
   ]
  },
  {
   "cell_type": "code",
   "execution_count": 8,
   "id": "06e717cf-9934-4d64-b1b3-7fed0b83e3ff",
   "metadata": {},
   "outputs": [
    {
     "name": "stdout",
     "output_type": "stream",
     "text": [
      "2\n",
      "4\n",
      "6\n",
      "8\n",
      "10\n",
      "12\n",
      "14\n",
      "16\n",
      "18\n",
      "20\n"
     ]
    }
   ],
   "source": [
    "for i in range(1,21):\n",
    "    if i%2==0:\n",
    "        print(i)"
   ]
  },
  {
   "cell_type": "markdown",
   "id": "64be99ae-f582-48e4-a944-3b009312ae53",
   "metadata": {},
   "source": [
    "          7.Write a Python program that calculates the factorial of a number using a for loop."
   ]
  },
  {
   "cell_type": "code",
   "execution_count": 22,
   "id": "42f30b25-d527-4475-b736-60ade2fc0cde",
   "metadata": {},
   "outputs": [
    {
     "name": "stdin",
     "output_type": "stream",
     "text": [
      "enter the factorial number : 5\n"
     ]
    },
    {
     "name": "stdout",
     "output_type": "stream",
     "text": [
      "factorial is giving = 120\n"
     ]
    }
   ],
   "source": [
    "n = int(input(\"enter the factorial number :\"))\n",
    "factorial = 1\n",
    "for i in range(1,n+1):\n",
    "    if n >= 1:\n",
    "        factorial = factorial*i\n",
    "print(\"factorial is giving =\",factorial)"
   ]
  },
  {
   "cell_type": "markdown",
   "id": "c6a12862-4c0c-4acd-b62d-d8174237170f",
   "metadata": {},
   "source": [
    "         8.How can you iterate through the characters of a string using a for loop in Python?"
   ]
  },
  {
   "cell_type": "code",
   "execution_count": 26,
   "id": "d0afd9fe-84fd-4c82-a92b-5af2b5b12a4f",
   "metadata": {
    "tags": []
   },
   "outputs": [
    {
     "name": "stdout",
     "output_type": "stream",
     "text": [
      "string is pwskillslab\n",
      "character of string\n",
      "p\n",
      "w\n",
      "s\n",
      "k\n",
      "i\n",
      "l\n",
      "l\n",
      "s\n",
      "l\n",
      "a\n",
      "b\n"
     ]
    }
   ],
   "source": [
    "str = \"pwskillslab\"\n",
    "print(\"string is\", str)\n",
    "print(\"character of string\")\n",
    "for char in str:\n",
    "    print(char)"
   ]
  },
  {
   "cell_type": "markdown",
   "id": "f09ad918-cb14-4b2b-8093-ea9f545bbe19",
   "metadata": {},
   "source": [
    "         9.Write a Python program to find the largest number in a list using a for loop."
   ]
  },
  {
   "cell_type": "code",
   "execution_count": 40,
   "id": "1926d665-96d6-4847-bdce-0590d5aa486f",
   "metadata": {},
   "outputs": [
    {
     "name": "stdout",
     "output_type": "stream",
     "text": [
      "largest number is =  100\n"
     ]
    }
   ],
   "source": [
    "l = [10,50,80,100,50,90]\n",
    "maxi = l[0]\n",
    "for i in l:\n",
    "    if i>maxi:\n",
    "        maxi = i\n",
    "print(\"largest number is = \",maxi)    "
   ]
  },
  {
   "cell_type": "markdown",
   "id": "e9e369bb-6e75-4397-82d4-195b2904fad3",
   "metadata": {},
   "source": [
    "      10.Create a Python program that prints the Fibonacci sequence up to a specified limit using a for loop."
   ]
  },
  {
   "cell_type": "code",
   "execution_count": 45,
   "id": "551b78bc-05bd-4936-9f8c-59ebd09da071",
   "metadata": {},
   "outputs": [
    {
     "name": "stdin",
     "output_type": "stream",
     "text": [
      "entet a number :  10\n"
     ]
    },
    {
     "name": "stdout",
     "output_type": "stream",
     "text": [
      "0 1 1 2 3 5 8 13 21 34 "
     ]
    }
   ],
   "source": [
    "n = int(input(\"entet a number : \"))\n",
    "a,b = 0, 1\n",
    "for i in range(0,n):\n",
    "    print(a,end= \" \")\n",
    "    c= a+b\n",
    "    a=b\n",
    "    b=c"
   ]
  },
  {
   "cell_type": "markdown",
   "id": "803b6da6-f6ca-40cc-a0f1-dff384b7ef35",
   "metadata": {},
   "source": [
    "    11.Write a Python program to count the number of vowels in a given string using a for loop."
   ]
  },
  {
   "cell_type": "code",
   "execution_count": 62,
   "id": "3409c5b3-fa0a-4c61-8f70-dd451a47d72c",
   "metadata": {},
   "outputs": [
    {
     "name": "stdin",
     "output_type": "stream",
     "text": [
      "enter a string :  bhavesh\n"
     ]
    },
    {
     "name": "stdout",
     "output_type": "stream",
     "text": [
      "2\n"
     ]
    }
   ],
   "source": [
    "str = input(\"enter a string : \")\n",
    "vowels = \"aeiouAEIOU\"\n",
    "\n",
    "count = sum (string.count(vowel) for vowel in vowels)\n",
    "print(count)"
   ]
  },
  {
   "cell_type": "markdown",
   "id": "94abfdfb-c483-478c-9e4b-7e5b0e64df11",
   "metadata": {},
   "source": [
    "        12.Create a Python program that generates a multiplication table for a given number using a for loop."
   ]
  },
  {
   "cell_type": "code",
   "execution_count": 14,
   "id": "47bc94a1-320e-4dd3-9867-734034d7ab21",
   "metadata": {},
   "outputs": [
    {
     "name": "stdin",
     "output_type": "stream",
     "text": [
      "enter a number :  10\n"
     ]
    },
    {
     "name": "stdout",
     "output_type": "stream",
     "text": [
      "10 x 1 = 10\n",
      "10 x 2 = 20\n",
      "10 x 3 = 30\n",
      "10 x 4 = 40\n",
      "10 x 5 = 50\n",
      "10 x 6 = 60\n",
      "10 x 7 = 70\n",
      "10 x 8 = 80\n",
      "10 x 9 = 90\n",
      "10 x 10 = 100\n"
     ]
    }
   ],
   "source": [
    "n = int(input(\"enter a number : \"))\n",
    "for i in range(1,11):\n",
    "    print(n, \"x\",i, \"=\",n*i )"
   ]
  },
  {
   "cell_type": "markdown",
   "id": "fcf1918f-0b6c-40b6-944a-14ba8391a3ff",
   "metadata": {},
   "source": [
    "     13.Write a Python program to reverse a list using a for loop."
   ]
  },
  {
   "cell_type": "code",
   "execution_count": 40,
   "id": "ef81ca09-b59a-42bc-b830-c25a77a622e7",
   "metadata": {},
   "outputs": [
    {
     "name": "stdout",
     "output_type": "stream",
     "text": [
      "[60, 50, 40, 30, 20, 10]\n"
     ]
    }
   ],
   "source": [
    "lst = [10,20,30,40,50,60]\n",
    "l= []\n",
    "for i in lst:\n",
    "     l.insert(-i,i) \n",
    "print(l)"
   ]
  },
  {
   "cell_type": "markdown",
   "id": "a6475cc4-c70a-4fc6-b05d-7d89f66bda3d",
   "metadata": {},
   "source": [
    "    14.Write a Python program to find the common elements between two lists using a for loop.\n"
   ]
  },
  {
   "cell_type": "code",
   "execution_count": 49,
   "id": "a3e3793c-1db9-443b-80c9-1997aaf662aa",
   "metadata": {},
   "outputs": [
    {
     "name": "stdout",
     "output_type": "stream",
     "text": [
      "list1 and list2 are common element:  [3, 4, 5]\n"
     ]
    }
   ],
   "source": [
    "list1 = [1,2,3,4,5]\n",
    "list2 = [3,4,5,6,7]\n",
    "result = []\n",
    "for i in list1:\n",
    "    if i in list2:\n",
    "        result.append(i)\n",
    "print(\"list1 and list2 are common element: \",result)        "
   ]
  },
  {
   "cell_type": "markdown",
   "id": "284aa24c-3cde-4179-bd2d-db53f5246e6a",
   "metadata": {},
   "source": [
    "     15.Explain how to use a for loop to iterate through the keys and values of a dictionary in Python."
   ]
  },
  {
   "cell_type": "code",
   "execution_count": 70,
   "id": "95082b39-9597-4e9d-b271-a9ddf68aa0fa",
   "metadata": {},
   "outputs": [
    {
     "name": "stdout",
     "output_type": "stream",
     "text": [
      "a  bike\n",
      "b  car\n",
      "c  truck\n",
      "d  jeep\n"
     ]
    }
   ],
   "source": [
    "d = {'a ' : \"bike\", 'b ' : \"car\", 'c ': \"truck\", 'd ':\"jeep\"}\n",
    "\n",
    "for key, value in d.items():\n",
    "     print(key,value)\n"
   ]
  },
  {
   "cell_type": "markdown",
   "id": "5a7b7cb9-79b2-4c0f-ace8-81fac994f6a3",
   "metadata": {},
   "source": [
    "       16.Write a Python program to find the GCD (Greatest Common Divisor) of two numbers using a for loop."
   ]
  },
  {
   "cell_type": "code",
   "execution_count": 15,
   "id": "837e48ce-49fd-4ab8-8773-8a71759f868e",
   "metadata": {},
   "outputs": [
    {
     "name": "stdin",
     "output_type": "stream",
     "text": [
      "enter a first number :  10\n",
      "enter a second number :  20\n"
     ]
    },
    {
     "name": "stdout",
     "output_type": "stream",
     "text": [
      "Greatest Common Divisor of 2 numbers : 20\n"
     ]
    }
   ],
   "source": [
    "a = int(input(\"enter a first number : \"))\n",
    "b = int(input(\"enter a second number : \"))\n",
    "for i in range(1, a + b):\n",
    "    if i%a==0 and i%b == 0:\n",
    "        \n",
    "        print(\"Greatest Common Divisor of 2 numbers :\",i)\n",
    "       \n",
    "        "
   ]
  },
  {
   "cell_type": "markdown",
   "id": "571b6f54-1817-47d4-bab4-dc06ac86d97a",
   "metadata": {},
   "source": [
    "      17.Create a Python program that checks if a string is a palindrome using a for loop."
   ]
  },
  {
   "cell_type": "code",
   "execution_count": 24,
   "id": "e393d973-46cd-4573-8ff8-46893bd9e509",
   "metadata": {},
   "outputs": [
    {
     "name": "stdin",
     "output_type": "stream",
     "text": [
      "enter a palindrome :  mukesh\n"
     ]
    },
    {
     "name": "stdout",
     "output_type": "stream",
     "text": [
      "this is not a palindrome.\n"
     ]
    }
   ],
   "source": [
    "word = input(\"enter a palindrome : \")\n",
    "w = \"\"\n",
    "for i in word:\n",
    "    w = i+w\n",
    "if (word==w):\n",
    "    print(\"yes, its a palindrome.\")\n",
    "else:\n",
    "    print(\"this is not a palindrome.\")"
   ]
  },
  {
   "cell_type": "markdown",
   "id": "1dfe08f0-f9ba-438f-9931-2d33bc603116",
   "metadata": {},
   "source": [
    "        18.Write a Python program to remove duplicates from a list using a for loop."
   ]
  },
  {
   "cell_type": "code",
   "execution_count": 28,
   "id": "e4bc8111-0009-4f7b-922a-e99222bd4487",
   "metadata": {},
   "outputs": [
    {
     "name": "stdout",
     "output_type": "stream",
     "text": [
      "[2, 4, 5, 8, 9, 3, 10, 7]\n"
     ]
    }
   ],
   "source": [
    "l = [2,4,5,8,9,5,4,3,2,9,10,7]\n",
    "m = []\n",
    "\n",
    "for i in l:\n",
    "    if i not in m:\n",
    "        m.append(i)\n",
    "print(m)"
   ]
  },
  {
   "cell_type": "markdown",
   "id": "ee1eb947-0ceb-473d-87d5-8587006d2cb3",
   "metadata": {},
   "source": [
    "       19.Create a Python program that counts the number of words in a sentence using a for loop.\n"
   ]
  },
  {
   "cell_type": "code",
   "execution_count": 53,
   "id": "b6e46d0f-0925-47f7-9078-d90a1b5524e6",
   "metadata": {},
   "outputs": [
    {
     "name": "stdin",
     "output_type": "stream",
     "text": [
      "enter a sentence :  mukesh\n"
     ]
    },
    {
     "name": "stdout",
     "output_type": "stream",
     "text": [
      "count a sentence :  6\n"
     ]
    }
   ],
   "source": [
    "sentence= input(\"enter a sentence : \") \n",
    "count =0\n",
    "for i in sentence:\n",
    "    count= count + 1\n",
    "    \n",
    "print(\"count a sentence : \",count)\n"
   ]
  },
  {
   "cell_type": "markdown",
   "id": "68325967-2f94-4434-9172-ee4dc479b6c8",
   "metadata": {},
   "source": [
    "         20.Write a Python program to find the sum of all odd numbers from 1 to 50 using a for loop."
   ]
  },
  {
   "cell_type": "code",
   "execution_count": 54,
   "id": "4c70f69f-3fad-467d-a618-33deba62ecc5",
   "metadata": {},
   "outputs": [
    {
     "name": "stdout",
     "output_type": "stream",
     "text": [
      "1\n",
      "3\n",
      "5\n",
      "7\n",
      "9\n",
      "11\n",
      "13\n",
      "15\n",
      "17\n",
      "19\n",
      "21\n",
      "23\n",
      "25\n",
      "27\n",
      "29\n",
      "31\n",
      "33\n",
      "35\n",
      "37\n",
      "39\n",
      "41\n",
      "43\n",
      "45\n",
      "47\n",
      "49\n"
     ]
    }
   ],
   "source": [
    "for i in range(1,51):\n",
    "    if i%2!= 0:\n",
    "        print(i)"
   ]
  },
  {
   "cell_type": "markdown",
   "id": "805bf27c-902d-443e-8cbc-09489e704305",
   "metadata": {},
   "source": [
    "     21.Write a Python program that checks if a given year is a leap year using a for loop."
   ]
  },
  {
   "cell_type": "code",
   "execution_count": 77,
   "id": "57a6221a-6682-42a2-ba07-1c130d9cdedc",
   "metadata": {},
   "outputs": [
    {
     "name": "stdin",
     "output_type": "stream",
     "text": [
      "enter a years :  1997\n"
     ]
    },
    {
     "name": "stdout",
     "output_type": "stream",
     "text": [
      "1997 is not a leap year\n"
     ]
    }
   ],
   "source": [
    "start_year = int(input(\"enter a years : \"))\n",
    "total_years = 1\n",
    "for year in range(start_year, start_year + total_years):\n",
    "    \n",
    "    if year % 4 == 0 :\n",
    "        print(year,\"this is leap year\")\n",
    "    else:\n",
    "        print(year,\"is not a leap year\")\n",
    "    "
   ]
  },
  {
   "cell_type": "markdown",
   "id": "8ed3c1fd-442c-4d6e-9797-4785641298db",
   "metadata": {},
   "source": [
    "       22.Create a Python program that calculates the square root of a number using a for loop.\n"
   ]
  },
  {
   "cell_type": "code",
   "execution_count": 34,
   "id": "963f2a57-f1fe-40eb-b764-945afcd55418",
   "metadata": {},
   "outputs": [
    {
     "name": "stdin",
     "output_type": "stream",
     "text": [
      "enter a number 5\n"
     ]
    },
    {
     "name": "stdout",
     "output_type": "stream",
     "text": [
      "The square root of 5.000 is 2.236\n"
     ]
    }
   ],
   "source": [
    "num = float(input(\"enter a number\"))\n",
    "num_squrt = num**0.5\n",
    "print('The square root of %0.3f is %0.3f'%(num ,num_squrt))"
   ]
  },
  {
   "cell_type": "markdown",
   "id": "8dac9099-36b9-47db-9e6b-f6827677faaa",
   "metadata": {},
   "source": [
    "     23.Write a Python program to find the LCM (Least Common Multiple) of two numbers using a for loop.\n"
   ]
  },
  {
   "cell_type": "code",
   "execution_count": 52,
   "id": "a5372b71-6fa1-4802-9b8d-b326925d30a0",
   "metadata": {},
   "outputs": [
    {
     "name": "stdin",
     "output_type": "stream",
     "text": [
      "enter a number :  25\n",
      "enter a number :  24\n"
     ]
    },
    {
     "name": "stdout",
     "output_type": "stream",
     "text": [
      "\n",
      "The LCM of two positive numbers  25  &  24  is  600.0 .\n"
     ]
    }
   ],
   "source": [
    "p,q,x,g =0,0,0,0\n",
    "\n",
    "p = int(input(\"enter a number : \"))\n",
    "q = int(input(\"enter a number : \"))\n",
    "\n",
    "\n",
    "for i in range(1,p+1):\n",
    "    if i <= q :\n",
    "        if p % i ==0 and q % i == 0:\n",
    "            g =i\n",
    "x = (p*q) / g\n",
    "print(\"\\nThe LCM of two positive numbers \", p, \" & \", q, \" is \", x, \".\")          "
   ]
  },
  {
   "cell_type": "markdown",
   "id": "b50a5363-64b8-47ec-a9d0-385e28715b23",
   "metadata": {},
   "source": [
    "                                               if-else:"
   ]
  },
  {
   "cell_type": "markdown",
   "id": "af31aa7e-eebe-4a42-9479-dccc1169cdc0",
   "metadata": {},
   "source": [
    "      1.Write a Python program to check if a number is positive, negative, or zero using an if-else statement."
   ]
  },
  {
   "cell_type": "code",
   "execution_count": 59,
   "id": "ef06b527-1199-44ab-a46d-eb9c590b3f10",
   "metadata": {},
   "outputs": [
    {
     "name": "stdin",
     "output_type": "stream",
     "text": [
      "enter a number :  10\n"
     ]
    },
    {
     "name": "stdout",
     "output_type": "stream",
     "text": [
      "positive number\n"
     ]
    }
   ],
   "source": [
    "n = int(input(\"enter a number : \"))\n",
    "if n>0:\n",
    "    print(\"positive number\")\n",
    "elif n == 0:\n",
    "    print(\"zero\")\n",
    "else:\n",
    "    print(\"negative number\")"
   ]
  },
  {
   "cell_type": "markdown",
   "id": "506dca70-999e-4295-9a68-a3f3db3aea4a",
   "metadata": {},
   "source": [
    "          2.Create a Python program that checks if a given number is even or odd using an if-else statement."
   ]
  },
  {
   "cell_type": "code",
   "execution_count": 73,
   "id": "0d693069-58d6-471a-9706-51c3de46f52e",
   "metadata": {},
   "outputs": [
    {
     "name": "stdin",
     "output_type": "stream",
     "text": [
      "enter a number  :  20\n"
     ]
    },
    {
     "name": "stdout",
     "output_type": "stream",
     "text": [
      "even number\n"
     ]
    }
   ],
   "source": [
    "l = int(input(\"enter a number  : \"))\n",
    "if l%2==0:\n",
    "    print(\"even number\")\n",
    "else:\n",
    "    print(\"odd number\")"
   ]
  },
  {
   "cell_type": "markdown",
   "id": "273380ff-812d-43de-9694-779777f47a90",
   "metadata": {},
   "source": [
    "        3.How can you use nested if-else statements in Python, and provide an example?"
   ]
  },
  {
   "cell_type": "code",
   "execution_count": 1,
   "id": "fd3d2b6a-64a4-4968-951c-a3616318a49f",
   "metadata": {},
   "outputs": [
    {
     "name": "stdout",
     "output_type": "stream",
     "text": [
      "Bigger than 5\n",
      "Between 5 and 15\n"
     ]
    }
   ],
   "source": [
    "#if statement can also be checked inside other if statement. \n",
    "#This conditional statement is called a nested if statement. \n",
    "#This means that inner if condition will be checked only if outer if condition is true and by this,\n",
    "#we can see multiple conditions to be satisfied.\n",
    "\n",
    "#Syntax:  \n",
    "\n",
    "#if (condition1):\n",
    "   # Executes when condition1 is true\n",
    "#   if (condition2): \n",
    "      # Executes when condition2 is true\n",
    "   # if Block is end here\n",
    "# if Block is end here\n",
    "\n",
    "#___________Example:_____________\n",
    "\n",
    "# Nested if statement example\n",
    "num = 10\n",
    "\n",
    "if num > 5:\n",
    "    print(\"Bigger than 5\")\n",
    "\n",
    "    if num <= 15:\n",
    "\t    print(\"Between 5 and 15\")\n",
    "\n",
    "\n",
    "\n",
    "\n"
   ]
  },
  {
   "cell_type": "markdown",
   "id": "2ca26071-7baa-4c68-9745-2c2eab148c3a",
   "metadata": {},
   "source": [
    "     4.Write a Python program to determine the largest of three numbers using if-else."
   ]
  },
  {
   "cell_type": "code",
   "execution_count": 83,
   "id": "896a033d-bf03-4d63-b00e-1d5f28e30bac",
   "metadata": {},
   "outputs": [
    {
     "name": "stdin",
     "output_type": "stream",
     "text": [
      "enter a num1 :  10\n",
      "enter a num2 :  15\n",
      "enter a num3 :  12\n"
     ]
    },
    {
     "name": "stdout",
     "output_type": "stream",
     "text": [
      "the largest number is  15\n"
     ]
    }
   ],
   "source": [
    "num1 = int(input(\"enter a num1 : \"))\n",
    "num2 = int(input(\"enter a num2 : \"))\n",
    "num3 = int(input(\"enter a num3 : \"))\n",
    "\n",
    "if (num1>=num2) and (num1>=num3):\n",
    "    largest = num1\n",
    "elif (num2>=num1) and (num2>=num3):\n",
    "    largest = num2\n",
    "else:\n",
    "    largest = num3\n",
    "print(\"the largest number is \", largest)    "
   ]
  },
  {
   "cell_type": "markdown",
   "id": "b77bcf6e-bc0b-4e36-adf1-2b6bc2e488ab",
   "metadata": {},
   "source": [
    "    5.Write a Python program that calculates the absolute value of a number using if-else."
   ]
  },
  {
   "cell_type": "code",
   "execution_count": 102,
   "id": "f5eb1883-aa52-4961-8c2c-4dc42f847e78",
   "metadata": {},
   "outputs": [
    {
     "name": "stdin",
     "output_type": "stream",
     "text": [
      "enter a absolute number :  -5\n"
     ]
    },
    {
     "name": "stdout",
     "output_type": "stream",
     "text": [
      "giving the absolute value :  5\n"
     ]
    }
   ],
   "source": [
    "n = int(input(\"enter a absolute number : \"))\n",
    "if n < 0:\n",
    "    n = (-1) * n;\n",
    "     \n",
    "# Print the absolute value\n",
    "print(\"giving the absolute value : \", n)"
   ]
  },
  {
   "cell_type": "markdown",
   "id": "e007fcd5-b0eb-446e-bc5a-7ad0cf84e2c4",
   "metadata": {},
   "source": [
    "      6. Create a Python program that checks if a given character is a vowel or consonant using if-else."
   ]
  },
  {
   "cell_type": "code",
   "execution_count": 16,
   "id": "3d28132e-3d19-4f2b-8147-568e611a0e06",
   "metadata": {},
   "outputs": [
    {
     "name": "stdin",
     "output_type": "stream",
     "text": [
      "enter a charecter :  bhavesh\n"
     ]
    },
    {
     "name": "stdout",
     "output_type": "stream",
     "text": [
      "bhavesh is consonant\n"
     ]
    }
   ],
   "source": [
    "character = input(\"enter a charecter : \")\n",
    "vowels = ['a','e','i','o','u','A','E','I','O','U']\n",
    "if character in vowels:\n",
    "    print(character,\"is a vowel\")\n",
    "else:\n",
    "    print(character,\"is consonant\")"
   ]
  },
  {
   "cell_type": "markdown",
   "id": "b0b6e35f-c78d-462f-9775-e8791ca7a27b",
   "metadata": {},
   "source": [
    "     7. Write a Python program to determine if a user is eligible to vote based on their age using if-else."
   ]
  },
  {
   "cell_type": "code",
   "execution_count": 22,
   "id": "6bbbe1bd-18be-4e8b-8384-0f5e7e0f31e2",
   "metadata": {},
   "outputs": [
    {
     "name": "stdin",
     "output_type": "stream",
     "text": [
      "enter a age :  20\n"
     ]
    },
    {
     "name": "stdout",
     "output_type": "stream",
     "text": [
      "eligible for voting\n"
     ]
    }
   ],
   "source": [
    "age = int(input(\"enter a age : \"))\n",
    "if age>=18:\n",
    "    print(\"eligible for voting\")\n",
    "else:\n",
    "    print(\"not eligible for voting\")"
   ]
  },
  {
   "cell_type": "markdown",
   "id": "6283cb20-c618-4880-afed-885b77e88e26",
   "metadata": {},
   "source": [
    "       8. Create a Python program that calculates the discount amount based on the purchase amount using if-else.\n"
   ]
  },
  {
   "cell_type": "code",
   "execution_count": 55,
   "id": "45d3a471-6923-4779-b01b-591b6eadc97b",
   "metadata": {},
   "outputs": [
    {
     "name": "stdin",
     "output_type": "stream",
     "text": [
      "enter a purchase amount :  1000\n"
     ]
    },
    {
     "name": "stdout",
     "output_type": "stream",
     "text": [
      "discount :  50.0\n",
      "net pay : 950.0\n"
     ]
    }
   ],
   "source": [
    "amount = int(input(\"enter a purchase amount : \"))\n",
    "if amount>0:\n",
    "    if amount<=5000:\n",
    "        discount = amount*0.05\n",
    "    elif amount<=10000:\n",
    "        discount = 0.10*amount\n",
    "    elif amount <= 30000:\n",
    "        discount = 0.20*amount\n",
    "    elif amount<= 50000:\n",
    "        discount = 0.25*amount\n",
    "    else:    \n",
    "        discount = 0.30*amount\n",
    "    print(\"discount : \",discount)\n",
    "    print(\"net pay :\",amount-discount)\n",
    "else:\n",
    "    print(\"invalid amount\")\n",
    "    "
   ]
  },
  {
   "cell_type": "markdown",
   "id": "515b3d09-dde4-46a5-8cd4-40c6393ef97e",
   "metadata": {},
   "source": [
    "      9. Write a Python program to check if a number is within a specified range using if-else.\n"
   ]
  },
  {
   "cell_type": "code",
   "execution_count": 66,
   "id": "7cef6ae8-c582-48df-b8d3-cbfd0b7457cf",
   "metadata": {},
   "outputs": [
    {
     "name": "stdin",
     "output_type": "stream",
     "text": [
      "enter lower_bound :  10\n",
      "enter upper_bound :  20\n",
      "enter a number:  25\n"
     ]
    },
    {
     "name": "stdout",
     "output_type": "stream",
     "text": [
      "the number is outside the specified range.\n"
     ]
    }
   ],
   "source": [
    "lower_bound = int(input(\"enter lower_bound : \"))\n",
    "upper_bound = int(input(\"enter upper_bound : \"))\n",
    "number = int(input(\"enter a number: \"))\n",
    "\n",
    "if lower_bound<=number<=upper_bound:\n",
    "    print(\"The number is within the specified range.\")\n",
    "else:\n",
    "    print(\"the number is outside the specified range.\")"
   ]
  },
  {
   "cell_type": "markdown",
   "id": "a8019b61-021b-4de1-b320-a4a5e76b5ee6",
   "metadata": {},
   "source": [
    "      10. Create a Python program that determines the grade of a student based on their score using if-else."
   ]
  },
  {
   "cell_type": "code",
   "execution_count": 70,
   "id": "fd853b09-1640-44dd-af53-5bd761627b7e",
   "metadata": {},
   "outputs": [
    {
     "name": "stdout",
     "output_type": "stream",
     "text": [
      "enter a marks in obtained 5 subjects\n"
     ]
    },
    {
     "name": "stdin",
     "output_type": "stream",
     "text": [
      "enter a marks1 :  70\n",
      "enter a marks2 :  80\n",
      "enter a marks3 :  90\n",
      "enter a marks4 :  100\n",
      "enter a marks5 :  80\n"
     ]
    },
    {
     "name": "stdout",
     "output_type": "stream",
     "text": [
      "your grade is A\n"
     ]
    }
   ],
   "source": [
    "print(\"enter a marks in obtained 5 subjects\")\n",
    "marks1 = int(input(\"enter a marks1 : \"))\n",
    "marks2 = int(input(\"enter a marks2 : \"))\n",
    "marks3 = int(input(\"enter a marks3 : \"))\n",
    "marks4 = int(input(\"enter a marks4 : \"))\n",
    "marks5 = int(input(\"enter a marks5 : \"))\n",
    "total_marks = marks1+marks2+marks3+marks4+marks5\n",
    "avg = total_marks/5\n",
    "\n",
    "if avg>=81 and avg<=100:\n",
    "    print(\"your grade is A\")\n",
    "elif avg>=61 and avg<81:\n",
    "    print(\"your grade is B\")\n",
    "elif avg>=51 and avg<61:\n",
    "    print(\"your grade is C\")\n",
    "elif avg>=41 and avg<51:\n",
    "    print(\"your grade is D\")\n",
    "else:\n",
    "    print(\"your grade is E \")"
   ]
  },
  {
   "cell_type": "markdown",
   "id": "41e68bca-8286-46f9-b044-e4444652bacb",
   "metadata": {},
   "source": [
    "     11. Write a Python program to check if a string is empty or not using if-else."
   ]
  },
  {
   "cell_type": "code",
   "execution_count": 80,
   "id": "1d7cde22-8c2c-45b6-b12f-b2330252b41f",
   "metadata": {},
   "outputs": [
    {
     "name": "stdout",
     "output_type": "stream",
     "text": [
      "string is not empty\n"
     ]
    }
   ],
   "source": [
    "string = \"bhavesh\"\n",
    "if not string:\n",
    "    print(\"string is empty\")\n",
    "else:\n",
    "    print(\"string is not empty\")"
   ]
  },
  {
   "cell_type": "markdown",
   "id": "92aa92df-8fbe-47d6-83ee-8a173aeccaae",
   "metadata": {},
   "source": [
    "      12. Create a Python program that identifies the type of a triangle (e.g., equilateral, isosceles, or scalene) based on input \n",
    "           values using if-else.\n"
   ]
  },
  {
   "cell_type": "code",
   "execution_count": 85,
   "id": "13a620e5-7b48-4139-bd2b-df89127b21af",
   "metadata": {},
   "outputs": [
    {
     "name": "stdin",
     "output_type": "stream",
     "text": [
      "enter a x :  5\n",
      "enter a y :  5\n",
      "enter a z :  7\n"
     ]
    },
    {
     "name": "stdout",
     "output_type": "stream",
     "text": [
      "isosceles triangle\n"
     ]
    }
   ],
   "source": [
    "x= int(input(\"enter a x : \"))\n",
    "y= int(input(\"enter a y : \"))\n",
    "z= int(input(\"enter a z : \"))\n",
    "\n",
    "if x == y == z:\n",
    "    print(\"equilateral triangle\")\n",
    "elif x==y or y==z or z==x :\n",
    "    print (\"isosceles triangle\")\n",
    "else:\n",
    "    print(\"scalene triangle\")"
   ]
  },
  {
   "cell_type": "markdown",
   "id": "df891c92-aae9-435b-a7f0-4fa946aa8145",
   "metadata": {},
   "source": [
    "     13. Write a Python program to determine the day of the week based on a user-provided number using if-else.\n"
   ]
  },
  {
   "cell_type": "code",
   "execution_count": 93,
   "id": "aef66cb7-0a0d-44e5-8048-e33de5f6f9ff",
   "metadata": {},
   "outputs": [
    {
     "name": "stdin",
     "output_type": "stream",
     "text": [
      "enter a day :  2\n"
     ]
    },
    {
     "name": "stdout",
     "output_type": "stream",
     "text": [
      "2 is monday\n"
     ]
    }
   ],
   "source": [
    "day = int(input(\"enter a day : \"))\n",
    "\n",
    "if day == 1:\n",
    "    print(day ,\"is sunday\")\n",
    "elif day == 2:\n",
    "    print(day, \"is monday\")\n",
    "elif day == 3:\n",
    "    print(day, \"is tuesday\")\n",
    "elif day == 4:\n",
    "    print(day, \"is wednesday\")\n",
    "elif day == 5:\n",
    "    print(day , \"is thursday\")\n",
    "elif day == 6:\n",
    "    print(day, \"is friday\")\n",
    "elif day == 7:\n",
    "    print(day, \"is saturday\")\n",
    "else:\n",
    "    print(\"wrong input! please enter a number 1 to 7.\")"
   ]
  },
  {
   "cell_type": "markdown",
   "id": "134534b8-afe5-4ada-b629-5e6590f1eba6",
   "metadata": {},
   "source": [
    "     14. Create a Python program that checks if a given year is a leap year using both if-else and a function.\n"
   ]
  },
  {
   "cell_type": "code",
   "execution_count": 100,
   "id": "a5a9b0ef-6c78-4864-8a44-c1205d4c5835",
   "metadata": {},
   "outputs": [
    {
     "name": "stdin",
     "output_type": "stream",
     "text": [
      "enter a year :  2022\n"
     ]
    },
    {
     "name": "stdout",
     "output_type": "stream",
     "text": [
      "the year is not a leap year \n"
     ]
    }
   ],
   "source": [
    "year = int(input(\"enter a year : \"))\n",
    "\n",
    "if year % 4==0:\n",
    "    if year % 100==0:\n",
    "        if year % 400==0:\n",
    "            print(\"the year is a leap year\")\n",
    "        else:\n",
    "            print(\"the year is not a leap year\")\n",
    "    else:\n",
    "        print(\"the year is a leap year\")\n",
    "else:\n",
    "    print(\"the year is not a leap year \")"
   ]
  },
  {
   "cell_type": "markdown",
   "id": "9cbe40ee-f438-46e7-8428-02f008ae41f0",
   "metadata": {},
   "source": [
    "      15. How do you use the \"assert\" statement in Python to add debugging checks within if-else blocks?"
   ]
  },
  {
   "cell_type": "code",
   "execution_count": 7,
   "id": "38308c20-bf30-43ea-9c9c-f6795fe1d9d4",
   "metadata": {},
   "outputs": [],
   "source": [
    "#Python Assertions in any programming language are the debugging tools that help in the smooth flow of code. \n",
    "#Assertions are mainly assumptions that a programmer knows or always wants to be true \n",
    "#and hence puts them in code so that failure of these doesn’t allow the code to execute further. \n",
    "\n",
    "#________Assert Keyword in Python:-\n",
    "#In simpler terms, we can say that assertion is the boolean expression that checks if the statement is True or False. \n",
    "#If the statement is true then it does nothing and continues the execution, but if the statement is False\n",
    "#then it stops the execution of the program and throws an\n",
    "\n",
    "#_________Python assert keyword Syntax\n",
    "#In Python, the assert keyword helps in achieving this task. \n",
    "#This statement takes as input a boolean condition, which when returns true doesn’t do anything and continues the normal flow of execution,\n",
    "#but if it is computed to be false, then it raises an AssertionError along with the optional message provided.  \n",
    "\n",
    "\n",
    "#________Parameters:\n",
    "\n",
    "#condition : The boolean condition returning true or false. \n",
    "#error_message : The optional argument to be printed in console in case of AssertionError\n",
    "#Returns: Returns AssertionError, in case the condition evaluates to false along with the error message which when provided. \n",
    "\n",
    "\n",
    "\n",
    "\n",
    "\n",
    "\n",
    "# initializing number\n",
    "#a = 4\n",
    "#b = 0\n",
    "\n",
    "# using assert to check for 0\n",
    "#print(\"The value of a / b is : \")\n",
    "#assert b != 0\n",
    "#print(a / b)\n"
   ]
  },
  {
   "cell_type": "markdown",
   "id": "fb1e623c-0a39-4076-906d-f453645f35c9",
   "metadata": {},
   "source": [
    "       16. Create a Python program that determines the eligibility of a person for a senior citizen discount based on age \n",
    "       using if-else\n"
   ]
  },
  {
   "cell_type": "code",
   "execution_count": 5,
   "id": "0c8f5b91-8522-4972-a1a8-04fd8c71aebb",
   "metadata": {},
   "outputs": [
    {
     "name": "stdin",
     "output_type": "stream",
     "text": [
      "enter your age :   65\n"
     ]
    },
    {
     "name": "stdout",
     "output_type": "stream",
     "text": [
      "you qulify for a discount\n"
     ]
    }
   ],
   "source": [
    "age = int(input(\"enter your age :  \"))\n",
    "\n",
    "if age>=60:\n",
    "    print(\"you qulify for a discount\")\n",
    "else:\n",
    "    print(\"you are not qulify for a discount\")\n"
   ]
  },
  {
   "cell_type": "markdown",
   "id": "973c89a1-5dcd-4d9c-8c4b-8a3c3470302e",
   "metadata": {},
   "source": [
    "      17. Write a Python program to categorize a given character as uppercase, lowercase, or neither using if-else.\n"
   ]
  },
  {
   "cell_type": "code",
   "execution_count": 23,
   "id": "96d5bd25-9595-4cc1-bcf9-0c25ade03f89",
   "metadata": {},
   "outputs": [
    {
     "name": "stdin",
     "output_type": "stream",
     "text": [
      "enter a character :  bhavesh\n"
     ]
    },
    {
     "name": "stdout",
     "output_type": "stream",
     "text": [
      "bhavesh is lowercase\n"
     ]
    }
   ],
   "source": [
    "char = input(\"enter a character : \")\n",
    "\n",
    "if (char>='A' and char<='Z'):\n",
    "    print(char,\"is uppercase\")\n",
    "elif (char>='a' and char<='z'):\n",
    "    print(char,\"is lowercase\")\n",
    "else:\n",
    "    print(char,\"is niether\")"
   ]
  },
  {
   "cell_type": "markdown",
   "id": "02a43165-d123-4316-9dd5-f349279c7f66",
   "metadata": {},
   "source": [
    "     18. Write a Python program to determine the roots of a quadratic equation using if-else.\n"
   ]
  },
  {
   "cell_type": "code",
   "execution_count": 42,
   "id": "ccc6b43a-79ae-4958-bd4f-9cd570581b84",
   "metadata": {},
   "outputs": [
    {
     "name": "stdin",
     "output_type": "stream",
     "text": [
      "Enter the coefficients of A:  1\n",
      "Enter the coefficients of B:  5\n",
      "Enter the coefficients of C:  6\n"
     ]
    },
    {
     "name": "stdout",
     "output_type": "stream",
     "text": [
      "This equation has two solutions:  -2.0  and -3.0\n"
     ]
    }
   ],
   "source": [
    "a= int(input(\"Enter the coefficients of A: \"))\n",
    "b = int(input(\"Enter the coefficients of B: \"))\n",
    "c = int(input(\"Enter the coefficients of C: \"))\n",
    "\n",
    "d = b**2-4*a*c\n",
    "\n",
    "if d < 0:\n",
    "    print(\"This equation has no real solution\")\n",
    "elif d == 0:\n",
    "    x = (-b+math.sqrt(b**2-4*a*c))/2*a\n",
    "    print(\"This equation has one solutions: \", x)\n",
    "else:\n",
    "    x1 = (-b+math.sqrt(b**2-4*a*c))/2*a\n",
    "    x2 = (-b-math.sqrt(b**2-4*a*c))/2*a\n",
    "    print(\"This equation has two solutions: \", x1, \" and\", x2)"
   ]
  },
  {
   "cell_type": "markdown",
   "id": "bb819d79-acfe-480d-accb-6ff164b2991e",
   "metadata": {},
   "source": [
    "    19. Create a Python program that checks if a given year is a century year or not using if-else"
   ]
  },
  {
   "cell_type": "code",
   "execution_count": 65,
   "id": "da5c8bd3-6bc6-4b39-9bf7-a7811121d525",
   "metadata": {},
   "outputs": [
    {
     "name": "stdin",
     "output_type": "stream",
     "text": [
      "enter a century year 2000\n"
     ]
    },
    {
     "name": "stdout",
     "output_type": "stream",
     "text": [
      "20 century\n"
     ]
    }
   ],
   "source": [
    "year = int(input(\"enter a century year\"))\n",
    "\n",
    "if (year<= 0):\n",
    "    print(\"0 and negative not allow in century year\")\n",
    "elif (year<=100):\n",
    "    print(\"1st century\")\n",
    "elif year % 100 == 0:\n",
    "    print(year // 100,\"century\")\n",
    "else:\n",
    "    print( year //100+1,\" century\")"
   ]
  },
  {
   "cell_type": "markdown",
   "id": "ac3ebb5d-94ae-49dc-963c-ae60325868d1",
   "metadata": {},
   "source": [
    "      21. Explain the purpose of the \"continue\" and \"break\" statements within if-else loops."
   ]
  },
  {
   "cell_type": "code",
   "execution_count": 2,
   "id": "a3d7a901-79d8-4c4f-ad88-868060c76dc7",
   "metadata": {},
   "outputs": [],
   "source": [
    "#_________Continue Statement in Python:-\n",
    "#Continue is also a loop control statement just like the break statement.\n",
    "#continue statement is opposite to that of the break statement, instead of terminating the loop, \n",
    "#it forces to execute the next iteration of the loop.\n",
    "#As the name suggests the continue statement forces the loop to continue or execute the next iteration.\n",
    "#When the continue statement is executed in the loop, the code inside the loop following \n",
    "#the continue statement will be skipped and the next iteration of the loop will begin.\n",
    "\n",
    "#___Syntax of Continue Statement:-\n",
    "#__The continue statement in Python has the following syntax:\n",
    "\n",
    "#for / while loop:\n",
    "    # statement(s)\n",
    "#    if condition:\n",
    " #       continue\n",
    "    # statement(s)\n",
    "    \n",
    "    \n",
    "#_________Break Statement in Python:-\n",
    "#The break statement in Python is used to terminate the loop or statement in which it is present.\n",
    "#After that, the control will pass to the statements that are present after the break statement, if available.\n",
    "#If the break statement is present in the nested loop, then it terminates only those loops which contain the break statement. \n",
    "\n",
    "#__Syntax of Break Statement:-\n",
    "#The break statement in Python has the following syntax:\n",
    "\n",
    "#for / while loop:\n",
    "    # statement(s)\n",
    "#    if condition:\n",
    "#        break\n",
    "    # statement(s)\n",
    "# loop end   "
   ]
  },
  {
   "cell_type": "markdown",
   "id": "b7e82263-1402-4d89-b762-81fb4077dc33",
   "metadata": {},
   "source": [
    "     22. Create a Python program that calculates the BMI (Body Mass Index) of a person based on their weight and height \n",
    "         using if-else.\n",
    "\n"
   ]
  },
  {
   "cell_type": "code",
   "execution_count": 20,
   "id": "170db7dd-931c-42dc-b0a3-67a4f34f620d",
   "metadata": {},
   "outputs": [
    {
     "name": "stdin",
     "output_type": "stream",
     "text": [
      "enter a height :  4\n",
      "enter a weight :  300\n"
     ]
    },
    {
     "name": "stdout",
     "output_type": "stream",
     "text": [
      "welcome to the BMI calculattor.\n",
      "your weight is normal\n"
     ]
    }
   ],
   "source": [
    "height= float(input(\"enter a height : \"))\n",
    "weight = float(input(\"enter a weight : \"))\n",
    "print(\"welcome to the BMI calculattor.\")\n",
    "bmi = weight/(height**2) \n",
    "if bmi <=18.5:\n",
    "    print(\"you are underweight.\")\n",
    "elif 18.5 <bmi <24.9:\n",
    "    print(\"your weight is normal\")\n",
    "elif 24.9 < bmi <35:\n",
    "    print(\"you are overweight\")\n",
    "else:\n",
    "    print(\"you are obese\")"
   ]
  },
  {
   "cell_type": "markdown",
   "id": "a13e7dec-ee60-4a22-a74c-67a1dd1df12c",
   "metadata": {},
   "source": [
    "     23. How can you use the \"filter()\" function with if-else statements to filter elements from a list?"
   ]
  },
  {
   "cell_type": "code",
   "execution_count": null,
   "id": "385b2f8f-1f89-4cf2-a6d6-1c18b365e7b3",
   "metadata": {},
   "outputs": [],
   "source": [
    "#______Introduction to Python filter() function:-\n",
    "#Sometimes, you need to iterate over elements of a list and select some of them based on specified criteria.\n",
    "\n",
    "#Suppose that you have the following list of scores:\n",
    "\n",
    "#scores = [70, 60, 80, 90, 50]\n",
    "\n",
    "#To get all elements from the scores list where each element is greater than or equal to 70, you use the following code:\n",
    "\n",
    "#scores = [70, 60, 80, 90, 50]\n",
    "\n",
    "#filtered = []\n",
    "\n",
    "#for score in scores:\n",
    "#    if score >= 70:\n",
    "#        filtered.append(score)\n",
    "\n",
    "#print(filtered)\n",
    "\n",
    "#_______How it works:-\n",
    "\n",
    "\n",
    "#First, define an empty list (filtered) that will hold the elements from the scores list.\n",
    "#Second, iterate over the elements of the scores list. If the element is greater than or equal to 70, add it to the filtered list.\n",
    "#Third, show the filtered list to the screen.\n",
    "#Python has a built-in function called filter() that allows you to filter a list (or a tuple) in a more beautiful way.\n",
    "\n",
    "#___________The following shows the syntax of the filter() function:-\n",
    "\n",
    "#filter(fn, list)\n",
    "\n",
    "#The filter() function iterates over the elements of the list and applies the fn() function to each element.\n",
    "#It returns an iterator for the elements where the fn() returns True.\n",
    "\n",
    "#In fact, you can pass any iterable to the second argument of the filter() function, not just a list.\n",
    "\n",
    "#The following shows how to use the filter() function to return a list of scores where each score is greater than or equal to 70:\n",
    "\n",
    "#scores = [70, 60, 80, 90, 50]\n",
    "#filtered = filter(lambda score: score >= 70, scores)\n",
    "\n",
    "#print(list(filtered))\n",
    "\n",
    "#Output:\n",
    "\n",
    "#[70, 80, 90]"
   ]
  },
  {
   "cell_type": "markdown",
   "id": "c9131b05-732e-40e7-92a2-cab619dfc03d",
   "metadata": {},
   "source": [
    "    24. Write a Python program to determine if a given number is prime or not using if-else.\n"
   ]
  },
  {
   "cell_type": "code",
   "execution_count": 55,
   "id": "ed4ecd0b-6bd3-47f4-b244-995441638a4f",
   "metadata": {},
   "outputs": [
    {
     "name": "stdin",
     "output_type": "stream",
     "text": [
      "enter a number :  23\n"
     ]
    },
    {
     "name": "stdout",
     "output_type": "stream",
     "text": [
      "23 is a prime number\n"
     ]
    }
   ],
   "source": [
    "n = int(input(\"enter a number : \"))\n",
    "\n",
    "\n",
    "if n>1:\n",
    "    for i in range(2,int(n/2)+1):\n",
    "        if(n % i)==0:\n",
    "            print(n,\"is not a prime number\")\n",
    "            break\n",
    "    else:\n",
    "        print(n,\"is a prime number\")\n",
    "else:\n",
    "    print(n, \"is not a prime number\")"
   ]
  },
  {
   "cell_type": "markdown",
   "id": "72fdb1ab-4fb8-4c9d-80f8-3187b16f07f5",
   "metadata": {},
   "source": [
    "                                            Map :-"
   ]
  },
  {
   "cell_type": "markdown",
   "id": "24a4df23-422e-4c94-9a94-8ddbf767f018",
   "metadata": {},
   "source": [
    "         1. Explain the purpose of the `map()` function in Python and provide an example of how it can be\n",
    "            used to apply a function to each element of an iterable."
   ]
  },
  {
   "cell_type": "code",
   "execution_count": 29,
   "id": "12fc0335-6031-4ff1-8dd8-759182211a74",
   "metadata": {},
   "outputs": [],
   "source": [
    "#Map in Python is a function that works as an iterator to return a result after applying a function to every item of an iterable \n",
    "#(tuple, lists, etc.).\n",
    "#It is used when you want to apply a single transformation function to all the iterable elements.\n",
    "#The iterable and function are passed as arguments to the map in Python.\"\"\"\n",
    "# Defining a function\n",
    "\n",
    "#def mul(i):\n",
    "\n",
    " #   return i * i\n",
    "\n",
    "# Using the map function\n",
    "\n",
    "#x = map(mul, (3, 5, 7, 11, 13))\n",
    "\n",
    "#print (x)\n",
    "\n",
    "#print(list(x))\n"
   ]
  },
  {
   "cell_type": "markdown",
   "id": "c38e82fb-6766-496b-a94a-ccb15a4a7dac",
   "metadata": {},
   "source": [
    "         2. Write a Python program that uses the `map()` function to square each element of a list of numbers.\n",
    "           "
   ]
  },
  {
   "cell_type": "code",
   "execution_count": 13,
   "id": "10017bc3-dd1c-48a4-bd26-554086a979d6",
   "metadata": {},
   "outputs": [
    {
     "name": "stdout",
     "output_type": "stream",
     "text": [
      "[1, 4, 9, 16, 25, 36, 49, 64]\n"
     ]
    }
   ],
   "source": [
    "data = [1,2,3,4,5,6,7,8]\n",
    "squred = list(map(lambda x:x**2,data))\n",
    "print(squred)"
   ]
  },
  {
   "cell_type": "markdown",
   "id": "328bf113-8007-43d8-84f0-5b010fca94ba",
   "metadata": {},
   "source": [
    "     3. How does the `map()` function differ from a list comprehension in Python, and when would you choose one over the other?\n",
    "        "
   ]
  },
  {
   "cell_type": "code",
   "execution_count": 28,
   "id": "d4775adb-1f1e-42cf-89c1-c4afaa7eaaef",
   "metadata": {},
   "outputs": [],
   "source": [
    "#List comprehension are used when a list of results is required as map only returns a map object and does not return any list.\n",
    " #  Map is faster in case of calling an already defined function (as no lambda is required).\n",
    "# example of map():\n",
    "\n",
    "\n",
    "# function to double the number \n",
    "#def num (n) : \n",
    "#\treturn n * 2\n",
    "\t\t\n",
    "#lst = [2, 44, 5.5, 6, -7] \n",
    "\n",
    "# suppose we want to call function \n",
    "# 'num' for each element of lst, \n",
    "# we use map \n",
    "\n",
    "# creates a map object \n",
    "#x = map(num, lst) \n",
    "#print(x) \n",
    "\n",
    "# returns list \n",
    "#print(list(x)) \n",
    "\n",
    "#output: [4,88,11.0,12,-14]\n",
    "#example of list comprehension\n",
    "\n",
    "\n",
    "#lst = [2, 44, 5.5, 6, -7] \n",
    "\n",
    "# to double the number \n",
    "# list comprehension \n",
    "#x = [i * 2 for i in lst ] \n",
    "#print(x) \n",
    "#output : [4,88,11.0,12,-14]"
   ]
  },
  {
   "cell_type": "markdown",
   "id": "b0e15f1a-6353-47f4-8381-6ca3b6325ea9",
   "metadata": {},
   "source": [
    "       4. Create a Python program that uses the `map()` function to convert a list of names to uppercase."
   ]
  },
  {
   "cell_type": "code",
   "execution_count": 11,
   "id": "e1469d6e-6e82-425a-9998-fc73cde50c5f",
   "metadata": {},
   "outputs": [
    {
     "name": "stdout",
     "output_type": "stream",
     "text": [
      "['PW', 'SKILLS']\n"
     ]
    }
   ],
   "source": [
    "listA = [\"pw\",\"skills\"]\n",
    "l=list(map(lambda x:x.upper(),listA))\n",
    "print(l)"
   ]
  },
  {
   "cell_type": "markdown",
   "id": "161b7385-9f40-4c47-8d1f-00784f045373",
   "metadata": {},
   "source": [
    "    5. Write a Python program that uses the `map()` function to calculate the length of each word in a list of strings.\n",
    "       "
   ]
  },
  {
   "cell_type": "code",
   "execution_count": 9,
   "id": "bfea9de1-b6f4-441f-ade1-2110b063f0f7",
   "metadata": {},
   "outputs": [
    {
     "name": "stdout",
     "output_type": "stream",
     "text": [
      "the original string is :  full stack data science pro is must course\n",
      "the list of word length is :[4, 5, 4, 7, 3, 2, 4, 6]\n"
     ]
    }
   ],
   "source": [
    "string = \" full stack data science pro is must course\"\n",
    "print(\"the original string is : \" +string)\n",
    "res = list(map(len, string.split())) \n",
    "print(\"the list of word length is :\"  +str(res))\n",
    "      "
   ]
  },
  {
   "cell_type": "markdown",
   "id": "1de47c88-b90b-45d5-814c-5660154a40d3",
   "metadata": {},
   "source": [
    "     6. How can you use the `map()` function to apply a custom function to elements of multiple lists  simultaneously in Python?\n",
    "       "
   ]
  },
  {
   "cell_type": "code",
   "execution_count": 30,
   "id": "7ca8f8d0-791f-4fea-826b-96bb26961a2f",
   "metadata": {},
   "outputs": [],
   "source": [
    "#The syntax for the map() function is as follows: map(function, iterable, [iterable 2, iterable 3, ...]) \n",
    "#Instead of using a for loop, the map() function provides a way of applying a function to every item in an iterable.\n"
   ]
  },
  {
   "cell_type": "markdown",
   "id": "63db9053-da06-4179-afbc-fe4aa9c7ddba",
   "metadata": {},
   "source": [
    "      7. Create a Python program that uses `map()` to convert a list of temperatures from Celsius to Fahrenheit."
   ]
  },
  {
   "cell_type": "code",
   "execution_count": 12,
   "id": "42e89a7b-cafb-4ff3-8bfa-f27c936b0654",
   "metadata": {},
   "outputs": [
    {
     "name": "stdout",
     "output_type": "stream",
     "text": [
      "[('Nashua', 89.6), ('Boston', 53.6), ('Los Angelos', 111.2), ('Miami', 84.2)]\n"
     ]
    }
   ],
   "source": [
    "places = [('Nashua',32),(\"Boston\",12),(\"Los Angelos\",44),(\"Miami\",29)]\n",
    "\n",
    "newplaces = list(map(lambda c: (c[0], (9/5) * c[1]+ 32), places))\n",
    "print(newplaces)"
   ]
  },
  {
   "cell_type": "markdown",
   "id": "4567edf9-fa33-4daf-a391-a8ce4372c85a",
   "metadata": {},
   "source": [
    "    8. Write a Python program that uses the `map()` function to round each element of a list of floating-point numbers to the nearest \n",
    "       integer.\n",
    "                                                                                                "
   ]
  },
  {
   "cell_type": "code",
   "execution_count": 27,
   "id": "ba2f159a-54e8-4a71-8b10-cffc33b0e59c",
   "metadata": {},
   "outputs": [
    {
     "name": "stdout",
     "output_type": "stream",
     "text": [
      "[11, 13, 50, 41]\n"
     ]
    }
   ],
   "source": [
    "l = [10.52,12.53,50.0,40.62]\n",
    "newlist= list(map(round, l))\n",
    "print(newlist)"
   ]
  },
  {
   "cell_type": "markdown",
   "id": "21108617-0469-40fd-bc46-22b2d52e082e",
   "metadata": {},
   "source": [
    "                                               Reduce :"
   ]
  },
  {
   "cell_type": "markdown",
   "id": "4c615ca4-236d-40cf-8fb6-34ba48e1a777",
   "metadata": {},
   "source": [
    "     1. What is the `reduce()` function in Python, and what module should you import to use it? Provide an example of its basic usage.\n"
   ]
  },
  {
   "cell_type": "code",
   "execution_count": 32,
   "id": "3d98679d-87d0-42f7-a521-1ccb16fe8d54",
   "metadata": {},
   "outputs": [],
   "source": [
    "#The reduce() function is a powerful tool in Python that operates on a list (or any iterable), applies a function to its elements,\n",
    "#and 'reduces' them to a single output. \n",
    "#It's part of the functools module, which needs to be imported before you can use reduce() .\n",
    "\n",
    "\n",
    "#>>>>At first step, first two elements of sequence are picked and the result is obtained.\n",
    "#>>>>Next step is to apply the same function to the previously attained result and the number just succeeding the second element \n",
    "#and the result is again stored.\n",
    "#>>>>This process continues till no more elements are left in the container.\n",
    "#>>>>The final returned result is returned and printed on console.\n",
    "\n",
    "######### basic usage example  #########\n",
    "\n",
    "#from functools import reduce\n",
    "\n",
    "# Here's a list of numbers\n",
    "#numbers = [1, 2, 3, 4, 5]\n",
    "\n",
    "# We'll use reduce to find the product of these numbers\n",
    "#product = reduce((lambda x, y: x * y), numbers)\n",
    "\n",
    "#print(product)\n",
    "\n",
    "# Output:\n",
    "# 120\n",
    "\n",
    "\n"
   ]
  },
  {
   "cell_type": "markdown",
   "id": "f10c7867-a9a8-4e97-ab70-ec7f139e985b",
   "metadata": {},
   "source": [
    "      2. Write a Python program that uses the `reduce()` function to find the product of all elements in a list.\n"
   ]
  },
  {
   "cell_type": "code",
   "execution_count": 37,
   "id": "79c58312-13bc-49c2-a463-b73f6a23e030",
   "metadata": {},
   "outputs": [
    {
     "name": "stdout",
     "output_type": "stream",
     "text": [
      "6\n",
      "24\n"
     ]
    }
   ],
   "source": [
    "from functools import reduce\n",
    "list1 = [1,2,3]\n",
    "list2 = [3,2,4]\n",
    "\n",
    "results1 = reduce(lambda x ,y: x*y,list1)\n",
    "results2 = reduce(lambda x,y : x*y, list2)\n",
    "print(results1)\n",
    "print(results2)"
   ]
  },
  {
   "cell_type": "markdown",
   "id": "67dec196-07e2-41d7-9eff-b6fd50a7c79d",
   "metadata": {},
   "source": [
    "     3. Create a Python program that uses `reduce()` to find the maximum element in a list of numbers"
   ]
  },
  {
   "cell_type": "code",
   "execution_count": 40,
   "id": "13487ecd-2b9b-4692-af03-cf5b1d1149c3",
   "metadata": {},
   "outputs": [
    {
     "name": "stdout",
     "output_type": "stream",
     "text": [
      "100\n"
     ]
    }
   ],
   "source": [
    "from functools import reduce\n",
    "\n",
    "list1 = [10,20,-20,60,100,-50]\n",
    "\n",
    "print(reduce(lambda x,y: x if x>y else y,list1))"
   ]
  },
  {
   "cell_type": "markdown",
   "id": "0392b014-dba7-407c-a166-f1c9ee9a239f",
   "metadata": {},
   "source": [
    "     4. How can you use the `reduce()` function to concatenate a list of strings into a single string?"
   ]
  },
  {
   "cell_type": "code",
   "execution_count": 2,
   "id": "30165604-8cbb-476e-8c08-ca2cdb61888c",
   "metadata": {},
   "outputs": [],
   "source": [
    "#To use the reduce() function, we first need to import it from the functools module. \n",
    "#Then, we define a function that takes two strings as arguments and concatenates them. \n",
    "#The reduce() function applies this function cumulatively to the elements of the list, combining them into a single string.\n",
    "\n",
    "#giving example:\n",
    "#from functools import reduce\n",
    "\n",
    "# Method 3: Using the reduce() function\n",
    "#fruits = ['apple', 'banana', 'orange', 'grape']\n",
    "\n",
    "#def concatenate_strings(str1, str2):\n",
    "#    return str1 + ', ' + str2\n",
    "\n",
    "#result = reduce(concatenate_strings, fruits)\n",
    "\n",
    "#print(result)\n",
    "#Output:\n",
    "#apple, banana, orange, grape"
   ]
  },
  {
   "cell_type": "markdown",
   "id": "68f61e44-90c4-4398-a98e-1c9fe7709b8c",
   "metadata": {},
   "source": [
    "       5. Write a Python program that calculates the factorial of a number using the `reduce()` function"
   ]
  },
  {
   "cell_type": "code",
   "execution_count": 16,
   "id": "f4a0f0ee-bbc0-4d56-a0ac-7cec3ca69eb1",
   "metadata": {},
   "outputs": [
    {
     "name": "stdout",
     "output_type": "stream",
     "text": [
      "120\n"
     ]
    }
   ],
   "source": [
    "import functools\n",
    "\n",
    "def factorial(n):\n",
    "    if n == 0:\n",
    "        return 1\n",
    "    else:\n",
    "        return functools.reduce(lambda x,y: x*y,range(1,n+1))\n",
    "print(factorial(5))                               "
   ]
  },
  {
   "cell_type": "markdown",
   "id": "8fa23246-fd51-438e-ba82-e86a04871384",
   "metadata": {},
   "source": [
    "      6. Create a Python program that uses `reduce()` to find the GCD (Greatest Common Divisor) of a list of numbers.\n",
    "\n"
   ]
  },
  {
   "cell_type": "code",
   "execution_count": 34,
   "id": "161eea69-c241-4537-b5c0-d1cec1d45f09",
   "metadata": {},
   "outputs": [
    {
     "name": "stdout",
     "output_type": "stream",
     "text": [
      "12\n"
     ]
    }
   ],
   "source": [
    "import functools as f\n",
    "A = [48,60]\n",
    "g = lambda a,b:a if b==0 else g(b,a%b)   \n",
    "print(f.reduce(lambda x,y:g(x,y),A))"
   ]
  },
  {
   "cell_type": "markdown",
   "id": "5e06e9f4-f976-4533-b0d3-2fa17938d253",
   "metadata": {},
   "source": [
    "      7. Write a Python program that uses the `reduce()` function to find the 'sum' of the digits of a given number."
   ]
  },
  {
   "cell_type": "code",
   "execution_count": 37,
   "id": "75984387-02a1-4342-8faa-754777c09ad8",
   "metadata": {},
   "outputs": [
    {
     "name": "stdout",
     "output_type": "stream",
     "text": [
      "the sum of the list element is :25\n"
     ]
    }
   ],
   "source": [
    "import functools\n",
    "lst = [2,4,5,6,8]\n",
    "print(\"the sum of the list element is :\" , end= \"\")\n",
    "print(functools.reduce(lambda x,y:x+y,lst))"
   ]
  },
  {
   "cell_type": "markdown",
   "id": "7f812bf1-3fdd-4c3b-a6f4-c6b8d0e342b6",
   "metadata": {},
   "source": [
    "                                                         Filter :-"
   ]
  },
  {
   "cell_type": "markdown",
   "id": "6c5f621b-c30f-40e9-b330-4a2012049863",
   "metadata": {},
   "source": [
    "    1.Explain the purpose of the `filter()` function in Python and provide an example of how it can be\n",
    "      used to filter elements from an iterable.\n"
   ]
  },
  {
   "cell_type": "code",
   "execution_count": 39,
   "id": "0c912974-9fdc-418b-9132-a0a3eb3e61b4",
   "metadata": {},
   "outputs": [],
   "source": [
    "#The filter() function selects elements from an iterable (list, tuple etc.) based on the output of a function. \n",
    "#The function is applied to each element of the iterable and if it returns True , the element is selected by the filter() function.\n",
    "\n",
    "#giving filter() example:''''\n",
    "\n",
    "# letters = ['a', 'b', 'd', 'e', 'i', 'j', 'o']\n",
    "\n",
    "# a function that returns True if letter is vowel\n",
    "#def filter_vowels(letter):\n",
    " #   vowels = ['a', 'e', 'i', 'o', 'u']\n",
    "  #  return True if letter in vowels else False\n",
    "\n",
    "#filtered_vowels = filter(filter_vowels, letters)\n",
    "\n",
    "# converting to tuple\n",
    "#vowels = tuple(filtered_vowels)\n",
    "#print(vowels)"
   ]
  },
  {
   "cell_type": "markdown",
   "id": "8cbc6218-4eb7-42b0-b074-fcbad992a086",
   "metadata": {},
   "source": [
    "     2. Write a Python program that uses the `filter()` function to select even numbers from a list of integers.\n"
   ]
  },
  {
   "cell_type": "code",
   "execution_count": 40,
   "id": "333c83dc-90a8-4d7c-a34b-3303986fff68",
   "metadata": {},
   "outputs": [
    {
     "name": "stdout",
     "output_type": "stream",
     "text": [
      "[2, 4, 6, 8, 10]\n"
     ]
    }
   ],
   "source": [
    "def check_even(number):\n",
    "    if number %2==0:\n",
    "        return True\n",
    "    return False\n",
    "numbers = [1,2,3,4,5,6,7,8,9,10]\n",
    "even_number_iterator = filter(check_even , numbers)\n",
    "even_number = list(even_number_iterator)\n",
    "print(even_number)\n"
   ]
  },
  {
   "cell_type": "markdown",
   "id": "6a6b2a87-5285-481a-baae-7eae15218ef5",
   "metadata": {},
   "source": [
    "    3. Create a Python program that uses the `filter()` function to select names that start with a specific\n",
    "       letter from a list of strings."
   ]
  },
  {
   "cell_type": "code",
   "execution_count": 48,
   "id": "dc492195-e326-48f5-a4ca-4601f999e3cb",
   "metadata": {},
   "outputs": [
    {
     "name": "stdout",
     "output_type": "stream",
     "text": [
      "the original list : ['orange', 'orieo', 'banana', 'mango', 'fruit']\n",
      "the list is without o :['banana', 'mango', 'fruit']\n",
      "the list is with o :  ['orange', 'orieo']\n"
     ]
    }
   ],
   "source": [
    "test_list = ['orange', 'orieo','banana','mango','fruit']\n",
    "\n",
    "start_letters = \"o\"\n",
    "\n",
    "print(\"the original list : \"  +str(test_list))\n",
    "      \n",
    "with_o = []\n",
    "without_o = []\n",
    "for i in test_list:\n",
    "    if (i.find (start_letters)==0):\n",
    "        with_o.append(i)\n",
    "    else:\n",
    "        without_o.append(i) \n",
    "print(\"the list is without o :\" + str(without_o)) \n",
    "print(\"the list is with o :  \" + str(with_o))      \n",
    "      "
   ]
  },
  {
   "cell_type": "markdown",
   "id": "bfaf63bb-d366-4a82-8b05-c3b5c8ae21cc",
   "metadata": {},
   "source": [
    "    4. Write a Python program that uses the `filter()` function to select prime numbers from a list of integers.\n"
   ]
  },
  {
   "cell_type": "code",
   "execution_count": 66,
   "id": "e6622c99-e056-481c-a0b3-f97456116e38",
   "metadata": {},
   "outputs": [
    {
     "name": "stdout",
     "output_type": "stream",
     "text": [
      "\n",
      "Extract prime numbers of the said list:\n",
      "[2, 3, 5, 7, 11, 13, 17, 19]\n"
     ]
    }
   ],
   "source": [
    "def is_prime(n):\n",
    "    if n<=1:\n",
    "         return False\n",
    "    if n <= 3:\n",
    "        return True\n",
    "    if n % 2 == 0 or n % 3 == 0:\n",
    "        return False\n",
    "    i = 5\n",
    "    while i * i <= n:\n",
    "        if n % i == 0 or n % (i + 2) == 0:\n",
    "            return False\n",
    "        i += 6\n",
    "    return True    \n",
    "number = [1,2,3,4,5,6,7,8,9,10,11,12,13,14,15,16,17,18,19,20]\n",
    "\n",
    "prime_numbers = list(filter(is_prime, number))\n",
    "print(\"\\nExtract prime numbers of the said list:\")\n",
    "print(prime_numbers)"
   ]
  },
  {
   "cell_type": "markdown",
   "id": "e5726d91-12a5-4f29-8bfe-4ef8bbcd8f70",
   "metadata": {},
   "source": [
    "     5. How can you use the `filter()` function to remove None values from a list in Python?"
   ]
  },
  {
   "cell_type": "code",
   "execution_count": 75,
   "id": "761fa427-fdd0-4096-bee4-2126612cfefd",
   "metadata": {},
   "outputs": [
    {
     "name": "stdout",
     "output_type": "stream",
     "text": [
      "list after removal None value :[1, 2, 3, 4, 5, 6]\n"
     ]
    }
   ],
   "source": [
    "lst = [1,None,2,3,4,None,None,5,6,None,None]\n",
    "\n",
    "res = []\n",
    "\n",
    "for value in lst:\n",
    "    if value != None:\n",
    "        res.append(value)\n",
    "        \n",
    "print(\"list after removal None value :\" + str(res))        \n",
    "    "
   ]
  },
  {
   "cell_type": "markdown",
   "id": "ec6c61eb-7135-4ff7-bd45-684dd82bd34e",
   "metadata": {},
   "source": [
    "     6. Create a Python program that uses `filter()` to select words longer than a certain length from a list of strings.\n",
    "        "
   ]
  },
  {
   "cell_type": "code",
   "execution_count": 4,
   "id": "f31d9bd2-4a2a-45c6-929b-0413fc128f82",
   "metadata": {},
   "outputs": [
    {
     "name": "stdout",
     "output_type": "stream",
     "text": [
      "['hello', 'lords']\n"
     ]
    }
   ],
   "source": [
    "data = [\"hello\",\"communication\",\"what\", \"do\", \"lords\"]\n",
    "filtered_list= list(filter(lambda x :len(x)>4and len(x)<8 ,data))\n",
    "print(filtered_list)"
   ]
  },
  {
   "cell_type": "markdown",
   "id": "667db1e2-0e87-4f32-a791-350c3c854dc3",
   "metadata": {},
   "source": [
    "     7. Write a Python program that uses the `filter()` function to select elements greater than a specified threshold from\n",
    "        a list of values.\n"
   ]
  },
  {
   "cell_type": "code",
   "execution_count": 91,
   "id": "342a713d-5c65-4f19-a2f0-6c0755d638f8",
   "metadata": {},
   "outputs": [
    {
     "name": "stdout",
     "output_type": "stream",
     "text": [
      "The original list : ['dmd', 'is', 'best', 'for', 'worlds']\n",
      "The above Threshold size strings are : ['best', 'worlds']\n"
     ]
    }
   ],
   "source": [
    "test_list = ['dmd', 'is', 'best', 'for', 'worlds']\n",
    "\n",
    "\n",
    "print(\"The original list : \" + str(test_list))\n",
    "thres = 4\n",
    "res = list(filter(lambda ele: len(ele) >= thres, test_list))\n",
    "print(\"The above Threshold size strings are : \" + str(res))\n"
   ]
  },
  {
   "cell_type": "markdown",
   "id": "e09b23dc-e34e-44e0-a2df-21ca1b61190a",
   "metadata": {},
   "source": [
    "                                                        Recursion:-"
   ]
  },
  {
   "cell_type": "markdown",
   "id": "eb152913-19a3-42ba-8569-e1584d5c7c9c",
   "metadata": {},
   "source": [
    "        1. Explain the concept of recursion in Python. How does it differ from iteration?"
   ]
  },
  {
   "cell_type": "code",
   "execution_count": 6,
   "id": "093aa811-b4c0-42c4-9c9f-5975e3c5844a",
   "metadata": {},
   "outputs": [],
   "source": [
    "#Recursion uses selection structure and reduces the size of the code. \n",
    "#Iteration, on the other hand, the iteration uses repetition structure and increases the size of the code.\n",
    "#However, iteration uses less memory as compared to recursion.\n",
    "\n",
    "#####Recursion:-\n",
    "#>>>>>Recursion uses the selection structure.\n",
    "#>>>>>Infinite recursion occurs if the step in recursion doesn't reduce the problem to a smaller problem. \n",
    "#    It also becomes infinite recursion if it doesn't convert on a specific condition. \n",
    "#   This specific condition is known as the base case.\n",
    "#>>>>>The system crashes when infinite recursion is encountered.\n",
    "#>>>>>Recursion terminates when the base case is met.\n",
    "#>>>>>Recursion is slower than iteration since it has the overhead of maintaining and updating the stack.\n",
    "#>>>>>Recursion uses more memory in comparison to iteration.\n",
    "#>>>>>Recursion reduces the size of the code.\n",
    "\n",
    "\n",
    "########Iteration:-\n",
    "#>>>>>Iteration uses the repetition structure.\n",
    "#>>>>>An infinite loop occurs when the condition in the loop doesn't become False ever.\n",
    "#>>>>>>Iteration uses the CPU cycles again and again when an infinite loop occurs.\n",
    "#>>>>>>Iteration terminates when the condition in the loop fails.\n",
    "#>>>>>>Iteration is quick in comparison to recursion. It doesn't utilize the stack.\n",
    "#>>>>>>Iteration uses less memory in comparison to recursion.\n",
    "#>>>>>Iteration increases the size of the code."
   ]
  },
  {
   "cell_type": "markdown",
   "id": "2cd663fb-29c2-4e68-acbb-b2ae929b9f85",
   "metadata": {},
   "source": [
    "    2. Write a Python program to calculate the factorial of a number using recursion."
   ]
  },
  {
   "cell_type": "code",
   "execution_count": 21,
   "id": "53cbc547-fd87-4420-a851-32138a8d5f8d",
   "metadata": {},
   "outputs": [
    {
     "name": "stdin",
     "output_type": "stream",
     "text": [
      "enter the factorial number 5\n"
     ]
    },
    {
     "name": "stdout",
     "output_type": "stream",
     "text": [
      "the factorial  5 is 120\n"
     ]
    }
   ],
   "source": [
    "def recur_factorial(n):\n",
    "    if n==1:\n",
    "        return n\n",
    "    else:\n",
    "        return n*recur_factorial(n-1)\n",
    "    \n",
    "num = int(input(\"enter the factorial number\"))\n",
    "\n",
    "if num<0:\n",
    "    print(\"sorry , factorial does not exist for negative number\")\n",
    "elif num == 0:\n",
    "    print(\"the factorial 0 is 1\")\n",
    "else:\n",
    "    print(\"the factorial \",num,\"is\",recur_factorial(num))"
   ]
  },
  {
   "cell_type": "markdown",
   "id": "13f144ff-7b8b-43b4-a213-37a8783e4044",
   "metadata": {},
   "source": [
    "      3. Create a recursive Python function to find the nth Fibonacci number.\n"
   ]
  },
  {
   "cell_type": "code",
   "execution_count": 25,
   "id": "ea2c321f-3617-4910-a6e2-ae64f2c10bf0",
   "metadata": {},
   "outputs": [
    {
     "name": "stdout",
     "output_type": "stream",
     "text": [
      "3\n"
     ]
    }
   ],
   "source": [
    "def fibonacci(n):\n",
    "    if n<=0:\n",
    "        print(\"incorrect input\")\n",
    "    elif n == 1:\n",
    "        return 0\n",
    "    elif n == 2:\n",
    "        return 1\n",
    "    else:\n",
    "        return fibonacci(n-1)+fibonacci(n-2)\n",
    "        \n",
    "print(fibonacci(5))        "
   ]
  },
  {
   "cell_type": "markdown",
   "id": "debf17a9-801d-4672-83b9-4d69b55101a5",
   "metadata": {},
   "source": [
    "    4. Write a recursive Python function to calculate the sum of all elements in a list.\n"
   ]
  },
  {
   "cell_type": "code",
   "execution_count": 30,
   "id": "de30a861-ffbf-446a-bf82-42385f33223a",
   "metadata": {},
   "outputs": [
    {
     "name": "stdout",
     "output_type": "stream",
     "text": [
      "15\n"
     ]
    }
   ],
   "source": [
    "def get_sum(piece):\n",
    "    if len(piece)==0:\n",
    "        return 0\n",
    "    else:\n",
    "        return piece[0] + get_sum(piece[1:])\n",
    "print(get_sum([1,2,3,4,5]))    "
   ]
  },
  {
   "cell_type": "markdown",
   "id": "ac9d1e38-0b62-4309-9b36-8855cc2a8dbc",
   "metadata": {},
   "source": [
    "    5. How can you prevent a recursive function from running indefinitely, causing a stack overflow error?\n"
   ]
  },
  {
   "cell_type": "code",
   "execution_count": 3,
   "id": "f1e112f5-51e0-4e79-ba1c-95ebc85b7d99",
   "metadata": {},
   "outputs": [],
   "source": [
    "#If your recursion is so deep that you get stack overflow, you shouldn’t use it at all. Implement the algorithm iteratively.\n",
    "\n",
    "#You may emulate recursion using your own stack (data structure) to store the data (you’d normally store on the call stack).\n",
    "#That’s the most straightforward way.\n",
    "\n",
    "#But quite often, you might find that you actually don’t need to store any data (per call).\n",
    "#That you can do well enough with constant amount of variables. \n",
    "#In these cases, using recursion doesn’t make much sense—except that the algorithm may be simpler (in certain cases). \n",
    "#Indeed, it may. But the point of implementing an algorithm is to get practically usable code; not having a nice code… \n",
    "#If it’s possible, great. \n",
    "#But if that itself causes a problem—you need to make allowances. Nothing is perfect.\n",
    "\n",
    "#A (very simple) example of what I’m talking about: factorial. It’s nice and neat to calculate it like this: n!=n(n−1)!.\n",
    "#That is, using an one-liner, declarative style recursive function. But for large n, you’ll get stack overflow. \n",
    "#For much smaller nthan you are able to calculate the product iteratively… :-/\n",
    "\n",
    "#All that assumes that you did implement your recursive algorithm correctly—that \n",
    "#the fixed point is there and can be reached in finite amount of steps, of course. \n",
    "#If you just made a mistake in the implementation—then just fix it… I can’t tell."
   ]
  },
  {
   "cell_type": "markdown",
   "id": "4811e68e-d163-4922-8750-e07b29308f06",
   "metadata": {},
   "source": [
    "       6. Create a recursive Python function to find the greatest common divisor (GCD) of two numbers using the Euclidean algorithm\n"
   ]
  },
  {
   "cell_type": "code",
   "execution_count": 46,
   "id": "616833ea-f89e-43e2-acf4-97a4ed88cb19",
   "metadata": {},
   "outputs": [
    {
     "name": "stdin",
     "output_type": "stream",
     "text": [
      "enter the A :  25\n",
      "enter the B :  45\n"
     ]
    },
    {
     "name": "stdout",
     "output_type": "stream",
     "text": [
      "5\n"
     ]
    }
   ],
   "source": [
    "def gcd(a,b):\n",
    "    if a==b:\n",
    "        return a\n",
    "    elif a<b:\n",
    "        return gcd(b,a)\n",
    "    else:\n",
    "        return gcd(b,a-b)\n",
    "a =int(input(\"enter the A : \"))\n",
    "b =int(input(\"enter the B : \"))\n",
    "print(gcd(a,b))    "
   ]
  },
  {
   "cell_type": "markdown",
   "id": "b5271b8d-c659-448a-953d-5714ccc731c1",
   "metadata": {},
   "source": [
    "    7. Write a recursive Python function to reverse a string."
   ]
  },
  {
   "cell_type": "code",
   "execution_count": 52,
   "id": "6a066487-e613-4e0a-8e38-0243850f7011",
   "metadata": {},
   "outputs": [
    {
     "name": "stdin",
     "output_type": "stream",
     "text": [
      "enter a string :  bhavesh\n"
     ]
    },
    {
     "name": "stdout",
     "output_type": "stream",
     "text": [
      "The reversed string(using recursion) is : hsevahb\n"
     ]
    }
   ],
   "source": [
    "def reverse(s):\n",
    "    if len(s) == 0:\n",
    "        return s\n",
    "    else:\n",
    "        return reverse(s[1:]) + s[0]\n",
    "s = input(\"enter a string : \")\n",
    "print(\"The reversed string(using recursion) is : \", end=\"\")\n",
    "print(reverse(s))\n",
    "    "
   ]
  },
  {
   "cell_type": "markdown",
   "id": "ab7becad-b182-4f35-8e71-1ed886252a74",
   "metadata": {},
   "source": [
    "     8. Create a recursive Python function to calculate the power of a number (x^n)."
   ]
  },
  {
   "cell_type": "code",
   "execution_count": 62,
   "id": "e845778d-9633-48e2-970b-7a21483ddc72",
   "metadata": {},
   "outputs": [
    {
     "name": "stdin",
     "output_type": "stream",
     "text": [
      "enter n : 5\n",
      "enter p : 10\n"
     ]
    },
    {
     "name": "stdout",
     "output_type": "stream",
     "text": [
      "9765625\n"
     ]
    }
   ],
   "source": [
    "def power(n, p):\n",
    "    if p == 0:\n",
    "        return 1\n",
    "    return (n*power(n ,p-1))\n",
    "n =int(input(\"enter n :\"))  \n",
    "p = int(input(\"enter p :\"))\n",
    "print(power(n ,p))"
   ]
  },
  {
   "cell_type": "markdown",
   "id": "21b316d1-5e83-4582-b4ac-95ca1eac4f89",
   "metadata": {},
   "source": [
    "    9. Write a recursive Python function to find all permutations of a given string."
   ]
  },
  {
   "cell_type": "code",
   "execution_count": 73,
   "id": "5c147b5f-320d-47e0-b2e9-da1a4320a57d",
   "metadata": {},
   "outputs": [
    {
     "name": "stdout",
     "output_type": "stream",
     "text": [
      "mba\n",
      "mab\n",
      "bma\n",
      "bam\n",
      "amb\n",
      "abm\n"
     ]
    }
   ],
   "source": [
    "def perms(s):        \n",
    "    if(len(s)==1):\n",
    "        return [s]\n",
    "    result=[]\n",
    "    for i,v in enumerate(s):\n",
    "        result += [v+p for p in perms(s[:i]+s[i+1:])]\n",
    "    return result\n",
    "print('\\n'.join(perms('mba')))    "
   ]
  },
  {
   "cell_type": "markdown",
   "id": "3d8084f3-1c1d-4a27-852c-f8508b1ead1e",
   "metadata": {},
   "source": [
    "    10. Write a recursive Python function to check if a string is a palindrome.\n"
   ]
  },
  {
   "cell_type": "code",
   "execution_count": 5,
   "id": "4bc0015e-911b-4402-9147-1a7e6c300963",
   "metadata": {},
   "outputs": [
    {
     "name": "stdin",
     "output_type": "stream",
     "text": [
      "enter n nx nc\n"
     ]
    },
    {
     "name": "stdout",
     "output_type": "stream",
     "text": [
      "string is not palindrome.\n"
     ]
    }
   ],
   "source": [
    "def palindrome(s):\n",
    "    if len(s)<1:\n",
    "        return True\n",
    "    else:\n",
    "        if s[0] == s[-1]:\n",
    "            return palindrome(s[1:-1])\n",
    "        else:\n",
    "            return False\n",
    "a = str(input(\"enter\"))\n",
    "if (palindrome(a)==True):\n",
    "    print(\"string is palindrome.\")\n",
    "    \n",
    "else:\n",
    "    print(\"string is not palindrome.\")"
   ]
  },
  {
   "cell_type": "markdown",
   "id": "7a9db569-0271-4965-88fa-af99cc788b27",
   "metadata": {},
   "source": [
    "     11. Create a recursive Python function to generate all possible combinations of a list of elements."
   ]
  },
  {
   "cell_type": "code",
   "execution_count": 23,
   "id": "aa3388bd-4af4-4d95-8c37-8320b5aae367",
   "metadata": {},
   "outputs": [
    {
     "name": "stdout",
     "output_type": "stream",
     "text": [
      "[[], [1], [2], [1, 2], [3], [1, 3], [2, 3], [1, 2, 3], [4], [1, 4], [2, 4], [1, 2, 4], [3, 4], [1, 3, 4], [2, 3, 4], [1, 2, 3, 4], [5], [1, 5], [2, 5], [1, 2, 5], [3, 5], [1, 3, 5], [2, 3, 5], [1, 2, 3, 5], [4, 5], [1, 4, 5], [2, 4, 5], [1, 2, 4, 5], [3, 4, 5], [1, 3, 4, 5], [2, 3, 4, 5], [1, 2, 3, 4, 5], [6], [1, 6], [2, 6], [1, 2, 6], [3, 6], [1, 3, 6], [2, 3, 6], [1, 2, 3, 6], [4, 6], [1, 4, 6], [2, 4, 6], [1, 2, 4, 6], [3, 4, 6], [1, 3, 4, 6], [2, 3, 4, 6], [1, 2, 3, 4, 6], [5, 6], [1, 5, 6], [2, 5, 6], [1, 2, 5, 6], [3, 5, 6], [1, 3, 5, 6], [2, 3, 5, 6], [1, 2, 3, 5, 6], [4, 5, 6], [1, 4, 5, 6], [2, 4, 5, 6], [1, 2, 4, 5, 6], [3, 4, 5, 6], [1, 3, 4, 5, 6], [2, 3, 4, 5, 6], [1, 2, 3, 4, 5, 6]]\n"
     ]
    }
   ],
   "source": [
    "def combinations(l):\n",
    "    if l:\n",
    "      result = combinations(l[:-1])\n",
    "      return result + [c + [l[-1]] for c in result]\n",
    "    else:\n",
    "      return [[]]\n",
    "\n",
    "print(combinations([1,2,3,4,5,6]))"
   ]
  },
  {
   "cell_type": "markdown",
   "id": "357b87b4-14ab-4a8c-83ee-99b1b1f81786",
   "metadata": {},
   "source": [
    "                                                    Basics of Functions:"
   ]
  },
  {
   "cell_type": "markdown",
   "id": "bfacd5ec-a482-4759-983c-c55e73cd2eb8",
   "metadata": {},
   "source": [
    "     1. What is a function in Python, and why is it used?"
   ]
  },
  {
   "cell_type": "code",
   "execution_count": 1,
   "id": "672bfb30-050b-4663-a352-06d1b2c5074f",
   "metadata": {},
   "outputs": [],
   "source": [
    "#You use functions in programming to bundle a set of instructions that you want to use repeatedly or that, \n",
    "#because of their complexity, are better self-contained in a sub-program and called when needed. \n",
    "#That means that a function is a piece of code written to carry out a specified task.\n",
    "\n",
    "#To carry out that specific task, the function might or might not need multiple inputs. \n",
    "#When the task is carried out, the function can or can not return one or more values.\n",
    "\n",
    "#There are three types of functions in Python:\n",
    "\n",
    "#>>>>Built-in functions, such as help() to ask for help, min() to get the minimum value, print() to print an object to the terminal,\n",
    "#… You can find an overview with more of these functions here.\n",
    "\n",
    "#>>>User-Defined Functions (UDFs), which are functions that users create to help them out; And\n",
    "#>>>Anonymous functions, which are also called lambda functions because they are not declared with the standard def keyword."
   ]
  },
  {
   "cell_type": "markdown",
   "id": "8420e073-ae98-4890-a3c5-a91c489985c8",
   "metadata": {},
   "source": [
    "    2. How do you define a function in Python? Provide an example"
   ]
  },
  {
   "cell_type": "code",
   "execution_count": 2,
   "id": "0379a4d1-029e-4f40-8476-ac461767be76",
   "metadata": {},
   "outputs": [],
   "source": [
    "#In Python, you define a function with the def keyword, then write the function identifier (name) followed by parentheses and a colon.\n",
    "\n",
    "#The next thing you have to do is make sure you indent with a tab or 4 spaces, and then specify what you want the function to do for you.\n",
    "\n",
    "#def functionName():\n",
    "    # What to make the function do\n",
    "    \n",
    "#######>>>>>>>Basic Examples of a Function in Python<<<<<<<<##########\n",
    "\n",
    "#Following the basic syntax above, an example of a basic Python function printing “Hello World” to the terminal looks like this:\n",
    "\n",
    "#def myfunction():\n",
    "#    print(\"Hello World\")\n",
    "\n",
    "###>>>>To call this function, write the name of the function followed by parentheses:<<<<<<<\n",
    "\n",
    "#myfunction()\n",
    "    "
   ]
  },
  {
   "cell_type": "markdown",
   "id": "4e107578-bfad-4432-a8ec-4f4b4bfff195",
   "metadata": {},
   "source": [
    "    3. Explain the difference between a function definition and a function call."
   ]
  },
  {
   "cell_type": "code",
   "execution_count": 4,
   "id": "056b162a-f8d5-46bb-b987-fde070c60299",
   "metadata": {},
   "outputs": [],
   "source": [
    "#A function is a block of code that does a particular operation and returns a result.\n",
    "#It usually accepts inputs as parameters and returns a result.\n",
    "#The parameters are not mandatory.\n",
    "\n",
    "#E.g:\n",
    "#Function add(a,b)\n",
    "#return a+ b\n",
    "\n",
    "#A function call is the code used to pass control to a function.\n",
    "\n",
    "#E.g.:\n",
    "\n",
    "#b = add(5,6)\n",
    "\n",
    "#Now b will have the value 11."
   ]
  },
  {
   "cell_type": "markdown",
   "id": "26b2d170-540b-4410-8fdd-908d89367f05",
   "metadata": {},
   "source": [
    "    4. Write a Python program that defines a function to calculate the sum of two numbers and then calls the function.\n"
   ]
  },
  {
   "cell_type": "code",
   "execution_count": 10,
   "id": "ec2ae4d2-3370-40de-b8ef-0e792312431d",
   "metadata": {},
   "outputs": [
    {
     "name": "stdin",
     "output_type": "stream",
     "text": [
      "enter a num1 :  10\n",
      "enter a num2 :  20\n"
     ]
    },
    {
     "name": "stdout",
     "output_type": "stream",
     "text": [
      "the sum of giving two number is  30\n"
     ]
    }
   ],
   "source": [
    "def add_two_numbers(a,b):\n",
    "    sum = a+b\n",
    "    return sum\n",
    "num1 = int(input(\"enter a num1 : \"))\n",
    "num2 = int(input(\"enter a num2 : \"))\n",
    "print(\"the sum of giving two number is \",add_two_numbers(num1,num2))"
   ]
  },
  {
   "cell_type": "markdown",
   "id": "855f316a-f00f-46eb-b610-98df1ba56778",
   "metadata": {},
   "source": [
    "    5. What is a function signature, and what information does it typically include?"
   ]
  },
  {
   "cell_type": "code",
   "execution_count": 11,
   "id": "dd918741-1b4a-4619-93e5-b45ee36510de",
   "metadata": {},
   "outputs": [],
   "source": [
    "#A function signature includes the function name, its arguments, and in some languages, the return type.\n",
    "#There are several other elements that may be present such as exception specification and various qualifiers (especially for class methods).\n",
    "#Not all programming languages support all elements.\n",
    "\n",
    "#Python always returns an object from every function, so the return type is not specified in the signature:\n",
    "\n",
    "#def add(a, b):\tpass\n",
    "#C specifies the return type and the type of each argument:\n",
    "\n",
    "\n",
    "#int add(int a, int b); \n",
    "#Java has no standalone functions, but its methods can specify what exceptions might be thrown:\n",
    "\n",
    "#public class A{\tpublic int add(int a, int b) throws Exception\t{\t\t...\t}}\n",
    "#C# may include generic types in the signature:\n",
    "\n",
    "#public class A{\tpublic T add (T number1, T number2)}"
   ]
  },
  {
   "cell_type": "markdown",
   "id": "7925a5e1-5364-4a54-8bae-0036efd210e4",
   "metadata": {},
   "source": [
    "     6. Create a Python function that takes two arguments and returns their product"
   ]
  },
  {
   "cell_type": "code",
   "execution_count": 12,
   "id": "e54c1638-af07-4102-95f2-53d1da3cb097",
   "metadata": {},
   "outputs": [
    {
     "name": "stdout",
     "output_type": "stream",
     "text": [
      "6\n"
     ]
    }
   ],
   "source": [
    "def multiply(a,b):\n",
    "    results = a*b\n",
    "    return results\n",
    "print(multiply(2,3))"
   ]
  },
  {
   "cell_type": "markdown",
   "id": "87f2cf5b-eec4-4e01-97ea-18aa6b5216ba",
   "metadata": {},
   "source": [
    "                                      Function Parameters and Arguments:"
   ]
  },
  {
   "cell_type": "markdown",
   "id": "54b616bc-482d-4d41-a379-ed269794c19b",
   "metadata": {},
   "source": [
    "    1. Explain the concepts of formal parameters and actual arguments in Python functions."
   ]
  },
  {
   "cell_type": "code",
   "execution_count": 13,
   "id": "e9adb417-dcd9-449b-ad7a-7ffff3d17d33",
   "metadata": {},
   "outputs": [],
   "source": [
    "#1. Actual Parameters :\n",
    "#The arguments that are passed in a function call are called actual arguments.\n",
    "#These arguments are defined in the calling function.\n",
    "#These are the variables or expressions referenced in the parameter list of a subprogram call. \n",
    "#There is no need to specify datatype in actual parameter.\n",
    "\n",
    "#2. Formal Parameters :\n",
    "#These are the variables or expressions referenced in the parameter list of a subprogram specification.\n",
    "#The datatype of the receiving value must be defined. \n",
    "#The scope of formal arguments is local to the function definition in which they are used."
   ]
  },
  {
   "cell_type": "markdown",
   "id": "77acf6e9-61c9-4516-84c5-00a5d323d43c",
   "metadata": {},
   "source": [
    "     2. Write a Python program that defines a function with default argument values"
   ]
  },
  {
   "cell_type": "code",
   "execution_count": 5,
   "id": "c3471813-cbb0-45cc-a53a-44f28db54379",
   "metadata": {},
   "outputs": [],
   "source": [
    "#______Default Arguments:- \n",
    "#Python has a different way of representing syntax and default values for function arguments.\n",
    "#Default values indicate that the function argument will take that value if no argument value is passed during the function call. \n",
    "#The default value is assigned by using the assignment(=) operator of the form keywordname=value.\n",
    "#Let’s understand this through a function student. \n",
    "#The function student contains 3-arguments out of which 2 arguments are assigned with default values.\n",
    "#So, the function student accepts one required argument (firstname), and rest two arguments are optional. \n",
    "\n",
    "#__example:-\n",
    "#def student(firstname, lastname ='Mark', standard ='Fifth'):\n",
    "\n",
    "#\tprint(firstname, lastname, 'studies in', standard, 'Standard')\n"
   ]
  },
  {
   "cell_type": "markdown",
   "id": "4e4a8fa8-0978-4b05-8158-495c59a611fb",
   "metadata": {},
   "source": [
    "     3. How do you use keyword arguments in Python function calls? Provide an example"
   ]
  },
  {
   "cell_type": "code",
   "execution_count": 21,
   "id": "b98b89ea-ab7c-405d-93eb-1f6c7394d9f3",
   "metadata": {},
   "outputs": [
    {
     "name": "stdout",
     "output_type": "stream",
     "text": [
      "First Name: Eric\n",
      "Last Name: Cartman\n"
     ]
    }
   ],
   "source": [
    "#Keyword arguments are related to the function calls. \n",
    "#When you use keyword arguments in a function call, the caller identifies the arguments by the parameter name.\n",
    "\n",
    "#This allows you to skip arguments or place them out of order because the Python interpreter is able to use \n",
    "#the keywords provided to match the values with parameters. \n",
    "#You can also make keyword calls to the printme() function in the following ways −\n",
    "\n",
    "#>>>>>>>>>>>>Example<<<<<<<<<<<<<\n",
    "\n",
    "def display_info(first_name, last_name):\n",
    "    print('First Name:', first_name)\n",
    "    print('Last Name:', last_name)\n",
    "\n",
    "display_info(last_name = 'Cartman', first_name = 'Eric')\n",
    "\n"
   ]
  },
  {
   "cell_type": "markdown",
   "id": "bb1ad2fa-967d-432a-8181-b8b0b98446f2",
   "metadata": {},
   "source": [
    "    4. Create a Python function that accepts a variable number of arguments and calculates their sum"
   ]
  },
  {
   "cell_type": "code",
   "execution_count": 34,
   "id": "ebf409ee-ef6a-4a8f-9ef7-c25123dfaf24",
   "metadata": {},
   "outputs": [],
   "source": [
    "def sum_all(*args):\n",
    "    t = ()\n",
    "    s = 0\n",
    "\n",
    "    for i in args:\n",
    "        s = s+i\n",
    "    print(s)          "
   ]
  },
  {
   "cell_type": "code",
   "execution_count": 35,
   "id": "ec4173bb-f7ae-4ced-b843-bec8c082ffb7",
   "metadata": {},
   "outputs": [
    {
     "name": "stdout",
     "output_type": "stream",
     "text": [
      "100\n"
     ]
    }
   ],
   "source": [
    "sum_all(10,20,30,40)"
   ]
  },
  {
   "cell_type": "markdown",
   "id": "ce0f7612-2997-41b3-b4e5-e01d21cfe6da",
   "metadata": {},
   "source": [
    "      5. What is the purpose of the `*args` and `**kwargs` syntax in function parameter lists?"
   ]
  },
  {
   "cell_type": "code",
   "execution_count": 36,
   "id": "7e7be27b-e25f-4c39-b9b9-2696377dabc0",
   "metadata": {},
   "outputs": [],
   "source": [
    "#>>>>>>1.What is Python *args?\n",
    "#The special syntax *args in function definitions in Python is used to pass a variable number of arguments to a function.\n",
    "#It is used to pass a non-keyworded, variable-length argument list. \n",
    "\n",
    "#The syntax is to use the symbol * to take in a variable number of arguments; by convention, it is often used with the word args.\n",
    "#What *args allows you to do is take in more arguments than the number of formal arguments that you previously defined.\n",
    "#With *args, any number of extra arguments can be tacked on to your current formal parameters (including zero extra arguments).\n",
    "#For example, we want to make a multiply function that takes any number of arguments and is able to multiply them all together. \n",
    "#It can be done using *args.\n",
    "#Using the *, the variable that we associate with the * becomes iterable meaning you can do things like iterate over it,\n",
    "#run some higher-order functions such as map and filter, etc.\n",
    "\n",
    "\n",
    "#>>>>>>>2.What is Python **kwargs?\n",
    "#The special syntax **kwargs in function definitions in Python is used to pass a keyworded, variable-length argument list.\n",
    "#We use the name kwargs with the double star. \n",
    "#The reason is that the double star allows us to pass through keyword arguments (and any number of them).\n",
    "\n",
    "#A keyword argument is where you provide a name to the variable as you pass it into the function.\n",
    "#One can think of the kwargs as being a dictionary that maps each keyword to the value that we pass alongside it. \n",
    "#That is why when we iterate over the kwargs there doesn’t seem to be any order in which they were printed out."
   ]
  },
  {
   "cell_type": "markdown",
   "id": "30f01f91-d93b-4a36-80b1-265cb354cd4f",
   "metadata": {},
   "source": [
    "                                          Return Values and Scoping:-"
   ]
  },
  {
   "cell_type": "markdown",
   "id": "9d09194e-9c92-4fd3-bc93-ed83aa12a5a8",
   "metadata": {},
   "source": [
    "    1. Describe the role of the `return` statement in Python functions and provide examples"
   ]
  },
  {
   "cell_type": "code",
   "execution_count": 37,
   "id": "dafb7284-981f-44e5-865f-17fbc8ba367c",
   "metadata": {},
   "outputs": [
    {
     "name": "stdout",
     "output_type": "stream",
     "text": [
      "Result of add function is 5\n",
      "\n",
      "Result of is_true function is True\n"
     ]
    }
   ],
   "source": [
    "#A return statement is used to end the execution of the function call and “returns” the result \n",
    "#(value of the expression following the return keyword) to the caller. \n",
    "#The statements after the return statements are not executed. \n",
    "#If the return statement is without any expression, then the special value None is returned.\n",
    "#A return statement is overall used to invoke a function so that the passed statements can be executed.\n",
    "\n",
    "#>>>>>>>>>>>Example:-\n",
    "# Python program to \n",
    "# demonstrate return statement \n",
    "\n",
    "def add(a, b):\n",
    "\n",
    "\t# returning sum of a and b\n",
    "\treturn a + b\n",
    "\n",
    "def is_true(a):\n",
    "\n",
    "\t# returning boolean of a\n",
    "\treturn bool(a)\n",
    "\n",
    "# calling function\n",
    "res = add(2, 3)\n",
    "print(\"Result of add function is {}\".format(res))\n",
    "\n",
    "res = is_true(2<5)\n",
    "print(\"\\nResult of is_true function is {}\".format(res))\n"
   ]
  },
  {
   "cell_type": "markdown",
   "id": "0b10f8db-2a41-4633-b740-5e83096ba475",
   "metadata": {},
   "source": [
    "    2. Explain the concept of variable scope in Python, including local and global variables"
   ]
  },
  {
   "cell_type": "code",
   "execution_count": 28,
   "id": "46c81795-fa73-4bbe-9fe9-004ad78f275b",
   "metadata": {},
   "outputs": [],
   "source": [
    "#>>1.Python Local Variables\n",
    "#Local variables in Python are those which are initialized inside a function and belong only to that particular function.\n",
    "#It cannot be accessed anywhere outside the function. Let’s see how to create a local variable.\n",
    "\n",
    "#>>2.Python Global Variables\n",
    "#These are those which are defined outside any function and which are accessible throughout the program,\n",
    "#i.e., inside and outside of every function.\n",
    "#Let’s see how to create a Python global variable."
   ]
  },
  {
   "cell_type": "markdown",
   "id": "4640b455-7a40-4dbd-9114-09b9e75743e7",
   "metadata": {},
   "source": [
    "        3. Write a Python program that demonstrates the use of global variables within functions"
   ]
  },
  {
   "cell_type": "code",
   "execution_count": 39,
   "id": "e882be3d-f49e-4bd8-b74f-a022d9ab2fe1",
   "metadata": {},
   "outputs": [
    {
     "name": "stdout",
     "output_type": "stream",
     "text": [
      "25\n"
     ]
    }
   ],
   "source": [
    " #global variable\n",
    "a = 15\n",
    "b = 10\n",
    " \n",
    "# function to perform addition\n",
    "def add():\n",
    "    c = a + b\n",
    "    print(c)\n",
    " \n",
    " \n",
    "# calling a function\n",
    "add()"
   ]
  },
  {
   "cell_type": "markdown",
   "id": "d18ab6e6-4748-4fd5-8c7e-5d012ce22a64",
   "metadata": {},
   "source": [
    "       4. Create a Python function that calculates the factorial of a number and returns it.\n"
   ]
  },
  {
   "cell_type": "code",
   "execution_count": 42,
   "id": "b9ab670d-703c-4e4d-8ab7-147d76bd5c9e",
   "metadata": {},
   "outputs": [
    {
     "name": "stdin",
     "output_type": "stream",
     "text": [
      "enter the number :  5\n"
     ]
    },
    {
     "name": "stdout",
     "output_type": "stream",
     "text": [
      "factorial of 5 is 120\n"
     ]
    }
   ],
   "source": [
    "import math\n",
    "def fact(n):\n",
    "    return(math.factorial(n))\n",
    "num = int(input(\"enter the number : \"))\n",
    "f = fact(num)\n",
    "print(\"factorial of\",num,\"is\",f)"
   ]
  },
  {
   "cell_type": "markdown",
   "id": "fdf81086-2ecb-4682-8356-c64f08e996f4",
   "metadata": {},
   "source": [
    "     5. How can you access variables defined outside a function from within the function?"
   ]
  },
  {
   "cell_type": "code",
   "execution_count": 43,
   "id": "3f12b859-0ca7-4584-af78-1ab67dfcd4e0",
   "metadata": {},
   "outputs": [],
   "source": [
    "#Python variables defined in functions are not accessible outside of functions, \n",
    "#unless they are attached to an object accessible outside of the function.\n",
    "\n",
    "#USE THE OBJECT ATTRIBUTE SYNTAX TO ACCESS A VARIABLE OUTSIDE OF A FUNCTION\n",
    "#In a function named func, use the syntax func.variable = value to store value in variable as an attribute of func. \n",
    "#To access value outside of func, use func() to run func, then use the syntax function_name.variable to access value.\n",
    "\n",
    "#def func():\n",
    "#  func.variable = \"John\"\n",
    "\n",
    "#func()\n",
    "\n",
    "#print(func.variable)\n",
    "#OUTPUT\n",
    "#John"
   ]
  },
  {
   "cell_type": "markdown",
   "id": "fec43dfb-9438-4431-b4b3-2ab4a3825870",
   "metadata": {},
   "source": [
    "                                  Lambda Functions and Higher-Order Functions:"
   ]
  },
  {
   "cell_type": "markdown",
   "id": "09f2fc46-af6e-4d68-836a-d772b694916f",
   "metadata": {},
   "source": [
    "     1. What are lambda functions in Python, and when are they typically used?"
   ]
  },
  {
   "cell_type": "code",
   "execution_count": 2,
   "id": "fd2a3199-1b01-4810-b798-2fcad7fecca1",
   "metadata": {},
   "outputs": [],
   "source": [
    "#>>>lambda is a keyword in Python for defining the anonymous function.\n",
    "#>>>argument(s) is a placeholder, that is a variable that will be used to hold the value you want to pass into the function expression. \n",
    "#A lambda function can have multiple variables depending on what you want to achieve.\n",
    "#>>>expression is the code you want to execute in the lambda function.\n",
    "\n",
    "#Notice that the anonymous function does not have a return keyword. \n",
    "#This is because the anonymous function will automatically return the result of the expression in the function once it is executed.\n",
    "\n",
    "#Let's look at an example of a lambda function to see how it works. We'll compare it to a regular user-defined function.\n",
    "\n",
    "#Assume I want to write a function that returns twice the number I pass it. We can define a user-defined function as follows:\n",
    "\n",
    "#def f(x):\n",
    "#  return x * 2\n",
    "\n",
    "#f(3)\n",
    "#>> 6\n",
    "\n",
    "#Now for a lambda function. We'll create it like this:\n",
    "\n",
    "##lambda x: x * 3\n",
    "#As I explained above, the lambda function does not have a return keyword. \n",
    "#As a result, it will return the result of the expression on its own. \n",
    "#The x in it also serves as a placeholder for the value to be passed into the expression.\n",
    "#You can change it to whatever you want.\n",
    "\n",
    "#Now if  you want to call a lambda function, you will use an approach known as immediately invoking the function. That looks like this:\n",
    "\n",
    "#(lambda x : x * 2)(3)\n",
    "\n",
    "#>> 6\n",
    "#The reason for this is that since the lambda function does not have a name you can invoke (it's anonymous),\n",
    "#you need to enclose the entire statement when you want to call it."
   ]
  },
  {
   "cell_type": "markdown",
   "id": "c1f2a830-eec6-47e3-b32d-d8b79067efa9",
   "metadata": {},
   "source": [
    "       2. Write a Python program that uses lambda functions to sort a list of tuples based on the second element.\n"
   ]
  },
  {
   "cell_type": "code",
   "execution_count": 6,
   "id": "aef81b3f-3aee-4e82-817b-689c57f7fcab",
   "metadata": {},
   "outputs": [
    {
     "name": "stdout",
     "output_type": "stream",
     "text": [
      "the list after apropriate string :  [('c', 4), ('a', 2), ('b', 3)]\n"
     ]
    }
   ],
   "source": [
    "test_list = [('a' ,2),('b', 3),('c' , 4)]\n",
    "\n",
    "sort_order = [4,2,3]\n",
    "res = [i for j in sort_order\n",
    "       for i in filter(lambda k:k[1]==j,test_list)]\n",
    "print(\"the list after apropriate string : \",res)"
   ]
  },
  {
   "cell_type": "markdown",
   "id": "7246ee6b-0bd9-42ab-9196-ce16e45f9b80",
   "metadata": {},
   "source": [
    "     3. Explain the concept of higher-order functions in Python, and provide an example."
   ]
  },
  {
   "cell_type": "code",
   "execution_count": 7,
   "id": "c78fb48b-c1b7-49c4-8ecc-2a92c845edef",
   "metadata": {},
   "outputs": [],
   "source": [
    "#A function is called Higher Order Function if it contains other functions as a parameter or returns a function as an output i.e, \n",
    "#the functions that operate with another function are known as Higher order Functions.\n",
    "#It is worth knowing that this higher order function is applicable for functions and methods as well that takes \n",
    "#functions as a parameter or returns a function as a result. Python too supports the concepts of higher order functions.\n",
    "\n",
    "#***Properties of higher-order functions:\n",
    "\n",
    "#1.A function is an instance of the Object type.\n",
    "#2.You can store the function in a variable.\n",
    "#3.You can pass the function as a parameter to another function.\n",
    "#4.You can return the function from a function.\n",
    "#5.You can store them in data structures such as hash tables, lists, …\n",
    "\n",
    "\n",
    "#>>>>>Functions as objects\n",
    "\n",
    "#In Python, a function can be assigned to a variable. \n",
    "#This assignment does not call the function, instead a reference to that function is created.\n",
    "#Consider the below example, for better understanding.\n",
    "\n",
    "#>>>>>>>>Example:<<<<<<<<####\n",
    "\n",
    "\n",
    "# Python program to illustrate functions  \n",
    "# can be treated as objects  \n",
    "#def shout(text):  \n",
    "#    return text.upper()  \n",
    "    \n",
    "#print(shout('Hello'))  \n",
    "    \n",
    "# Assigning function to a variable \n",
    "#yell = shout  \n",
    "    \n",
    "#print(yell('Hello')) \n",
    "\n",
    "#_________output____________:\n",
    "#HELLO\n",
    "#HELLO"
   ]
  },
  {
   "cell_type": "markdown",
   "id": "05c1a450-1f24-4915-970a-69fa1688f804",
   "metadata": {},
   "source": [
    "      4. Create a Python function that takes a list of numbers and a function as arguments, applying the\n",
    "         function to each element in the list."
   ]
  },
  {
   "cell_type": "code",
   "execution_count": 12,
   "id": "a5a5bca9-a568-4674-92f7-86bf81200919",
   "metadata": {},
   "outputs": [
    {
     "name": "stdout",
     "output_type": "stream",
     "text": [
      "[4, 8, 12]\n"
     ]
    }
   ],
   "source": [
    "def double(integer):\n",
    "    return integer*2\n",
    "integer_list = [2,4,6]\n",
    "output_list=list(map(double,integer_list))\n",
    "print(output_list)"
   ]
  },
  {
   "cell_type": "markdown",
   "id": "c31a42c1-f142-4ba0-8112-d9e4f53f59b0",
   "metadata": {},
   "source": [
    "                                                 Built-in Functions:"
   ]
  },
  {
   "cell_type": "markdown",
   "id": "a17ba20c-9d79-46a1-ac34-85d54ec502fb",
   "metadata": {},
   "source": [
    "    1. Describe the role of built-in functions like `len()`, `max()`, and `min()` in Python"
   ]
  },
  {
   "cell_type": "code",
   "execution_count": 13,
   "id": "fbc048a7-240e-45f1-b322-7aa21ca24aef",
   "metadata": {},
   "outputs": [],
   "source": [
    "#__________List methods are discussed in this article__________.\n",
    "\n",
    "#1. len() :- This function returns the length of list.\n",
    "\n",
    "#List = [1, 2, 3, 1, 2, 1, 2, 3, 2, 1]\n",
    "#print(len(List))\n",
    "\n",
    "#Output: 10\n",
    "\n",
    "#2. min() :- This function returns the minimum element of list.\n",
    "\n",
    "\n",
    "#List = [2.3, 4.445, 3, 5.33, 1.054, 2.5]\n",
    "#print(min(List))\n",
    "\n",
    "#Output: 1.054\n",
    "\n",
    "#3. max() :- This function returns the maximum element of list.\n",
    "\n",
    "#List = [2.3, 4.445, 3, 5.33, 1.054, 2.5]\n",
    "#print(max(List))\n",
    "\n",
    "#Output: 5.33\n",
    "\n",
    "\n",
    "\n"
   ]
  },
  {
   "cell_type": "markdown",
   "id": "04f8b134-382c-4ec6-b031-166311e12e08",
   "metadata": {},
   "source": [
    "      2. Write a Python program that uses the `map()` function to apply a function to each element of a list."
   ]
  },
  {
   "cell_type": "code",
   "execution_count": 18,
   "id": "8d4292d2-c009-4245-920d-1441a5532553",
   "metadata": {},
   "outputs": [
    {
     "name": "stdout",
     "output_type": "stream",
     "text": [
      "[2, 4, 6, 8]\n"
     ]
    }
   ],
   "source": [
    "def addition(n):\n",
    "    return n+n\n",
    "numbers = [1,2,3,4]\n",
    "results = list(map(addition , numbers))\n",
    "print(results)"
   ]
  },
  {
   "cell_type": "markdown",
   "id": "bd1f03f0-5c52-43eb-abfb-d57f8dd72020",
   "metadata": {},
   "source": [
    "     3. How does the `filter()` function work in Python, and when would you use it?"
   ]
  },
  {
   "cell_type": "code",
   "execution_count": 19,
   "id": "65b4cf00-07a9-4b57-80f6-0635fc0a6b5a",
   "metadata": {},
   "outputs": [],
   "source": [
    "#The filter() method filters the given sequence with the help of a function that tests each element in the sequence to be true or not. \n",
    "\n",
    "#_____Python filter() Syntax:\n",
    "\n",
    "#The filter() method in Python has the following syntax:\n",
    "\n",
    "#Syntax: filter(function, sequence)\n",
    "\n",
    "#Parameters:\n",
    "\n",
    "\n",
    "#function: function that tests if each element of a sequence is true or not.\n",
    "#sequence: sequence which needs to be filtered, it can be sets, lists, tuples, or containers of any iterators.\n",
    "#Returns: an iterator that is already filtered.\n",
    "\n",
    "#__________Python filter Function Examples\n",
    "\n",
    "#Let us see a few examples of the filter() function in Python.\n",
    "\n",
    "#Python Filter Function with a Custom Function\n",
    "#In this example, we are using the filter function along with a custom function “fun()” to filter out vowels from the Python List.\n",
    "\n",
    "\n",
    "#________________ function that filters vowels\n",
    "#def fun(variable):\n",
    "#\tletters = ['a', 'e', 'i', 'o', 'u']\n",
    "#\tif (variable in letters):\n",
    "#\t\treturn True\n",
    "#\telse:\n",
    "#\t\treturn False\n",
    "\n",
    "\n",
    "# sequence\n",
    "#sequence = ['g', 'e', 'e', 'j', 'k', 's', 'p', 'r']\n",
    "\n",
    "# using filter function\n",
    "#filtered = filter(fun, sequence)\n",
    "\n",
    "#print('The filtered letters are:')\n",
    "#for s in filtered:\n",
    "#\tprint(s)\n",
    "\n",
    "#_____output:\n",
    "\n",
    "#The filtered letters are:\n",
    "#e\n",
    "#e\n"
   ]
  },
  {
   "cell_type": "markdown",
   "id": "140c280d-a433-40c2-8c11-d0376d05dfb2",
   "metadata": {},
   "source": [
    "     4. Create a Python program that uses the `reduce()` function to find the product of all elements in a list.\n"
   ]
  },
  {
   "cell_type": "code",
   "execution_count": 24,
   "id": "1520e574-fbdd-433b-965c-cbb13a70c3f9",
   "metadata": {},
   "outputs": [
    {
     "name": "stdout",
     "output_type": "stream",
     "text": [
      "sum of the integer of my_list:60\n",
      "sum of the integer of my_list with initial value 10 :70\n"
     ]
    }
   ],
   "source": [
    "from functools import reduce\n",
    "def add(a,b):\n",
    "    return a+b\n",
    "\n",
    "my_list = [1,2,3,4,5,6,7,8,9,15]\n",
    "sum = reduce(add,my_list)\n",
    "print(f\"sum of the integer of my_list:{sum}\")\n",
    "\n",
    "sum = reduce(add,my_list,10)\n",
    "print(f\"sum of the integer of my_list with initial value 10 :{sum}\")\n"
   ]
  },
  {
   "cell_type": "markdown",
   "id": "a8627ff5-576c-47a2-a16d-99f771ec60c5",
   "metadata": {},
   "source": [
    "                                    Function Documentation and Best Practices:"
   ]
  },
  {
   "cell_type": "markdown",
   "id": "74194609-c826-4f78-8a53-1b5148659d87",
   "metadata": {},
   "source": [
    "       1. Explain the purpose of docstrings in Python functions and how to write them."
   ]
  },
  {
   "cell_type": "code",
   "execution_count": 27,
   "id": "3684c60d-fee0-4bdd-99d9-45a92348b9fa",
   "metadata": {},
   "outputs": [],
   "source": [
    "#Python documentation strings (or docstrings) provide a convenient way of associating documentation \n",
    "#with Python modules, functions, classes, and methods. \n",
    "#It’s specified in source code that is used, like a comment, to document a specific segment of code.\n",
    "#Unlike conventional source code comments, the docstring should describe what the function does, not how.\n",
    "\n",
    "#Declaring Docstrings: The docstrings are declared using ”’triple single quotes”’ or “”” triple double quotes “”” just below the class, \n",
    "#method, or function declaration. All functions should have a docstring.\n",
    "#Accessing Docstrings: The docstrings can be accessed using the __doc__ method of the object or using the help function. \n",
    "#The below examples demonstrate how to declare and access a docstring.\n",
    "\n",
    "\n",
    "#___________What should a docstring look like?______________#\n",
    "\n",
    "\n",
    "#>The doc string line should begin with a capital letter and end with a period.\n",
    "#>The first line should be a short description.\n",
    "#>If there are more lines in the documentation string, the second line should be blank, \n",
    "#visually separating the summary from the rest of the description.\n",
    "#>The following lines should be one or more paragraphs describing the object’s calling conventions, side effects, etc.\n",
    "\n",
    "#_________example________:\n",
    "\n",
    "#def my_function():\n",
    "#\t'''Demonstrates triple double quotes\n",
    "#\tdocstrings and does nothing really.'''\n",
    "\n",
    "#\treturn None\n",
    "\n",
    "#print(\"Using __doc__:\")\n",
    "#print(my_function.__doc__)\n",
    "\n",
    "#print(\"Using help:\")\n",
    "#help(my_function)\n",
    "\n",
    "#__________output_______:\n",
    "#Using __doc__:\n",
    "#Demonstrates triple double quotes\n",
    "#\tdocstrings and does nothing really.\n",
    "#Using help:\n",
    "#Help on function my_function in module __main__:\n",
    "\n",
    "#my_function()\n",
    "#    Demonstrates triple double quotes\n",
    "#    docstrings and does nothing really."
   ]
  },
  {
   "cell_type": "markdown",
   "id": "16768823-6a22-4248-8ee4-947bad74803d",
   "metadata": {},
   "source": [
    "2. describe some best practices for naming functions and variable in python, including naming conventions and guiedlines.\n"
   ]
  },
  {
   "cell_type": "code",
   "execution_count": null,
   "id": "a0b21be5-1195-4dcc-a578-23c10e50a15d",
   "metadata": {},
   "outputs": [],
   "source": [
    "#in computer programming, a naming convention is a set of rules for choosing the character sequence to be used for\n",
    "#identifiers which denote variables, types, functions, and other entities in source code and documentation.\n",
    "\n",
    "#Reasons for using a naming convention (as opposed to allowing programmers to choose any character sequence) include the following:\n",
    "\n",
    "#___To reduce the effort needed to read and understand source code;\n",
    "#[1].To enable code reviews to focus on issues more important than syntax and naming standards.\n",
    "#To enable code quality review tools to focus their reporting mainly on significant issues other than syntax and style preferences.\n",
    "#The choice of naming conventions can be a controversial issue, with partisans of each holding theirs to be the best\n",
    "#and others to be inferior. Colloquially, this is said to be a matter of dogma.\n",
    "#[2]. Many companies have also established their own set of conventions."
   ]
  },
  {
   "cell_type": "code",
   "execution_count": null,
   "id": "d4fc2430-eb7e-470b-b273-52b9e2a2d8ef",
   "metadata": {},
   "outputs": [],
   "source": [
    "\n"
   ]
  }
 ],
 "metadata": {
  "kernelspec": {
   "display_name": "Python 3 (ipykernel)",
   "language": "python",
   "name": "python3"
  },
  "language_info": {
   "codemirror_mode": {
    "name": "ipython",
    "version": 3
   },
   "file_extension": ".py",
   "mimetype": "text/x-python",
   "name": "python",
   "nbconvert_exporter": "python",
   "pygments_lexer": "ipython3",
   "version": "3.10.8"
  }
 },
 "nbformat": 4,
 "nbformat_minor": 5
}
